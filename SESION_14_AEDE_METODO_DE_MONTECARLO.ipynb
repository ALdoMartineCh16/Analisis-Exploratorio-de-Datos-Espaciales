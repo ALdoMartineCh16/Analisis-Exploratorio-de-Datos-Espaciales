{
  "nbformat": 4,
  "nbformat_minor": 0,
  "metadata": {
    "colab": {
      "provenance": [],
      "include_colab_link": true
    },
    "kernelspec": {
      "name": "ir",
      "display_name": "R"
    }
  },
  "cells": [
    {
      "cell_type": "markdown",
      "metadata": {
        "id": "view-in-github",
        "colab_type": "text"
      },
      "source": [
        "<a href=\"https://colab.research.google.com/github/ALdoMartineCh16/Analisis-Exploratorio-de-Datos-Espaciales/blob/main/SESION_14_AEDE_METODO_DE_MONTECARLO.ipynb\" target=\"_parent\"><img src=\"https://colab.research.google.com/assets/colab-badge.svg\" alt=\"Open In Colab\"/></a>"
      ]
    },
    {
      "cell_type": "markdown",
      "source": [
        "<img src=\"https://drive.google.com/uc?export=view&id=1QyjJW7NL2WDfnVZ0_MqAfH6Slkal1DJA\" width=\"150\">\n",
        "\n",
        "$\\tiny{Universidad \\ Nacional \\ de \\ San \\ Agustín \\ de \\ Arequipa \\\\\n",
        "Ciencia \\ de \\ la \\ Computación \\ UNSA}$\n",
        "\n",
        "---"
      ],
      "metadata": {
        "id": "JYJSPuwlu_wa"
      }
    },
    {
      "cell_type": "markdown",
      "source": [
        "# <center>  $Capitulo \\ 6$\n",
        "\n",
        "\n",
        "### <center> $Método \\ de \\ Montecarlo$"
      ],
      "metadata": {
        "id": "hQcvGf7EWHQy"
      }
    },
    {
      "cell_type": "markdown",
      "source": [
        "\n",
        "**Sesión de Laboratorio 14 :** Método de Montecarlo\n",
        "\n",
        "**Profesor:** ......................................\n",
        "\n",
        "**Estudiante:** .........................................\n",
        "\n",
        "---\n",
        "\n",
        "\n",
        "\n"
      ],
      "metadata": {
        "id": "P9035iJ6WCMH"
      }
    },
    {
      "cell_type": "markdown",
      "source": [
        "# **El Método de Montecarlo**\n",
        "\n",
        "Habitualmente se utiliza la denominación Monte Carlo para describir cualquier método de cálculo que utilice números aleatorios pero autores como Rubinstein (1981), Ripley (1987) y Lewis y Orav (1989), subrayan la conveniencia de utilizar este término sólo para usos específicos como la \"integración Monte Carlo\" o el \"muestreo Monte Carlo\", y utilizar el término \"simulación estocástica\" para los experimentos que hacen uso de series de números aleatorios generadas por ordenador.\n",
        "\n",
        "## **Ley de los grandes números**\n",
        "\n",
        "Sea $X_1,X_2,.…, X_n$  una muestra de variables aleatorias, y $g:R \\rightarrow R $ tal que $E(g(X_i))=\\mu$ y $V(g(X_i))=\\sigma^2$ entonces\n",
        "\n",
        "\n",
        "$$\\lim_{n \\rightarrow \\infty} \\frac{g(X_1)+...+g(x_n)}{n}=\\mu $$\n",
        "\n",
        "\n",
        "\n",
        "## **Integración numérica usando el Método de Montecarlo**\n",
        "\n",
        "\n",
        "Cálculo de integrales por Montecarlo En el caso que nos ocupa, se desea estimar la integral de una función $g$ continua. Esta integral puede verse como el cálculo del valor esperado de la función g cuando se aplica a una variable aleatoria con distribución uniforme.\n",
        "\n",
        "Supongamos que el intervalo de integración es $[0, 1]$ y sea $X_1,X_2,.…, X_n$  una muestra de variables aleatorias,\n",
        "independientes con distribución uniforme en el intervalo $[0, 1]$, entonces\n",
        "\n",
        "$$\\displaystyle\\int_{0}^{1}g(x)dx=E(g(X))$$\n",
        "\n",
        "$$\\displaystyle\\int_{0}^{1}g(x)dx \\approx \\frac{1}{n}\\sum_{i=1}^ng(x_i)$$\n",
        "\n",
        "Cualquier  integral sobre el intervalo $[a, b]$ se puede transformar a una integral sobre el intervalo [0, 1]  con el siguiente cambio de variable  $x = a + (b - a)u$ , luego  $x_i = a + (b - a)u_i, u_i\\in U(0,1)$ así\n",
        "\n",
        "\n",
        "$$\\int_{a}^{b}g(x)dx \\approx \\frac{b-a}{n}\\sum_{i=1}^ng(a+(b-a)u_i)$$"
      ],
      "metadata": {
        "id": "vYG3R3hUgarW"
      }
    },
    {
      "cell_type": "markdown",
      "source": [
        "**Ejemplo**\n",
        "\n",
        "Hallar\n",
        "\n",
        "$$\\int_0^1x^2dx$$"
      ],
      "metadata": {
        "id": "qGAHv9tuMVcH"
      }
    },
    {
      "cell_type": "code",
      "source": [
        "n=3000\n",
        "set.seed(123)\n",
        "x=runif(n,0,1)\n",
        "x=round(x,4)\n"
      ],
      "metadata": {
        "id": "zpJRl2NrMVyH"
      },
      "execution_count": null,
      "outputs": []
    },
    {
      "cell_type": "code",
      "source": [
        "gx=x^2\n",
        "gx=round(gx,4)\n"
      ],
      "metadata": {
        "id": "W_SovC-PNw1I"
      },
      "execution_count": null,
      "outputs": []
    },
    {
      "cell_type": "code",
      "source": [
        "(1/n)*sum(gx)"
      ],
      "metadata": {
        "colab": {
          "base_uri": "https://localhost:8080/",
          "height": 34
        },
        "id": "8ahcyJ1MMWEe",
        "outputId": "2f141aef-d779-4087-ae9e-bd984205d625"
      },
      "execution_count": null,
      "outputs": [
        {
          "output_type": "display_data",
          "data": {
            "text/html": [
              "0.3311858"
            ],
            "text/markdown": "0.3311858",
            "text/latex": "0.3311858",
            "text/plain": [
              "[1] 0.3311858"
            ]
          },
          "metadata": {}
        }
      ]
    },
    {
      "cell_type": "markdown",
      "source": [
        "**Ejemplo**\n",
        "\n",
        "Hallar\n",
        "\n",
        "$\\displaystyle\\int_{0}^{1}e^{-x}dx$"
      ],
      "metadata": {
        "id": "U0F73wsUguvN"
      }
    },
    {
      "cell_type": "code",
      "source": [
        "n=8\n",
        "set.seed(274)\n",
        "x=runif(n)\n",
        "x=round(x,4)\n",
        "x"
      ],
      "metadata": {
        "colab": {
          "base_uri": "https://localhost:8080/",
          "height": 34
        },
        "id": "xlUmTIErrU6m",
        "outputId": "9dd04410-5e0e-4210-9ece-a9718ef31acf"
      },
      "execution_count": null,
      "outputs": [
        {
          "output_type": "display_data",
          "data": {
            "text/html": [
              "<style>\n",
              ".list-inline {list-style: none; margin:0; padding: 0}\n",
              ".list-inline>li {display: inline-block}\n",
              ".list-inline>li:not(:last-child)::after {content: \"\\00b7\"; padding: 0 .5ex}\n",
              "</style>\n",
              "<ol class=list-inline><li>0.6299</li><li>0.0367</li><li>0.406</li><li>0.864</li><li>0.428</li><li>0.7254</li><li>0.7183</li><li>0.6987</li></ol>\n"
            ],
            "text/markdown": "1. 0.6299\n2. 0.0367\n3. 0.406\n4. 0.864\n5. 0.428\n6. 0.7254\n7. 0.7183\n8. 0.6987\n\n\n",
            "text/latex": "\\begin{enumerate*}\n\\item 0.6299\n\\item 0.0367\n\\item 0.406\n\\item 0.864\n\\item 0.428\n\\item 0.7254\n\\item 0.7183\n\\item 0.6987\n\\end{enumerate*}\n",
            "text/plain": [
              "[1] 0.6299 0.0367 0.4060 0.8640 0.4280 0.7254 0.7183 0.6987"
            ]
          },
          "metadata": {}
        }
      ]
    },
    {
      "cell_type": "code",
      "source": [
        "gx=exp(-x)\n",
        "gx=round(gx,4)\n",
        "gx"
      ],
      "metadata": {
        "colab": {
          "base_uri": "https://localhost:8080/",
          "height": 34
        },
        "id": "YjU1UwfSrgyH",
        "outputId": "b1d0860e-72f6-46c9-8be2-407eeefd0848"
      },
      "execution_count": null,
      "outputs": [
        {
          "output_type": "display_data",
          "data": {
            "text/html": [
              "<style>\n",
              ".list-inline {list-style: none; margin:0; padding: 0}\n",
              ".list-inline>li {display: inline-block}\n",
              ".list-inline>li:not(:last-child)::after {content: \"\\00b7\"; padding: 0 .5ex}\n",
              "</style>\n",
              "<ol class=list-inline><li>0.5326</li><li>0.964</li><li>0.6663</li><li>0.4215</li><li>0.6518</li><li>0.4841</li><li>0.4876</li><li>0.4972</li></ol>\n"
            ],
            "text/markdown": "1. 0.5326\n2. 0.964\n3. 0.6663\n4. 0.4215\n5. 0.6518\n6. 0.4841\n7. 0.4876\n8. 0.4972\n\n\n",
            "text/latex": "\\begin{enumerate*}\n\\item 0.5326\n\\item 0.964\n\\item 0.6663\n\\item 0.4215\n\\item 0.6518\n\\item 0.4841\n\\item 0.4876\n\\item 0.4972\n\\end{enumerate*}\n",
            "text/plain": [
              "[1] 0.5326 0.9640 0.6663 0.4215 0.6518 0.4841 0.4876 0.4972"
            ]
          },
          "metadata": {}
        }
      ]
    },
    {
      "cell_type": "code",
      "source": [
        "(1/n)*sum(gx)"
      ],
      "metadata": {
        "colab": {
          "base_uri": "https://localhost:8080/",
          "height": 34
        },
        "id": "R9W6L2qkrg1F",
        "outputId": "b3f61653-1901-42a3-ca30-bd8f64c9596b"
      },
      "execution_count": null,
      "outputs": [
        {
          "output_type": "display_data",
          "data": {
            "text/html": [
              "0.5881375"
            ],
            "text/markdown": "0.5881375",
            "text/latex": "0.5881375",
            "text/plain": [
              "[1] 0.5881375"
            ]
          },
          "metadata": {}
        }
      ]
    },
    {
      "cell_type": "code",
      "source": [
        "n =8\n",
        "set.seed(274)\n",
        "x =runif(n)\n",
        "gx=exp(-x)\n",
        "Estimador =sum(gx)/n\n",
        "Estimador"
      ],
      "metadata": {
        "colab": {
          "base_uri": "https://localhost:8080/",
          "height": 34
        },
        "id": "ZOJpMoXDB1Ra",
        "outputId": "799c1362-7d31-4806-a52b-e505f154d889"
      },
      "execution_count": null,
      "outputs": [
        {
          "output_type": "display_data",
          "data": {
            "text/html": [
              "0.588138101126812"
            ],
            "text/markdown": "0.588138101126812",
            "text/latex": "0.588138101126812",
            "text/plain": [
              "[1] 0.5881381"
            ]
          },
          "metadata": {}
        }
      ]
    },
    {
      "cell_type": "code",
      "source": [
        "n =10000\n",
        "x =runif(n)\n",
        "set.seed(274)\n",
        "gx=exp(-x)\n",
        "Estimador =mean(gx)\n",
        "Estimador"
      ],
      "metadata": {
        "colab": {
          "base_uri": "https://localhost:8080/",
          "height": 34
        },
        "id": "AcmjhHkGga_N",
        "outputId": "74d6cd86-91fe-4adf-d025-2906aba1dfc8"
      },
      "execution_count": null,
      "outputs": [
        {
          "output_type": "display_data",
          "data": {
            "text/html": [
              "0.631374944807456"
            ],
            "text/markdown": "0.631374944807456",
            "text/latex": "0.631374944807456",
            "text/plain": [
              "[1] 0.6313749"
            ]
          },
          "metadata": {}
        }
      ]
    },
    {
      "cell_type": "markdown",
      "source": [
        "Hallando su integral analiticamente por sustitucion o cambio de variable obtenemos\n",
        "\n",
        "$$\\displaystyle\\int_{0}^{1}e^{-x}dx=1-e^{-1}$$"
      ],
      "metadata": {
        "id": "czo-xMBjC8_H"
      }
    },
    {
      "cell_type": "code",
      "source": [
        "I=(1 - exp(-1))\n",
        "I"
      ],
      "metadata": {
        "colab": {
          "base_uri": "https://localhost:8080/",
          "height": 34
        },
        "id": "PE1USsJcC9XS",
        "outputId": "a131e43e-e92e-4233-81f3-d5ed453741d6"
      },
      "execution_count": null,
      "outputs": [
        {
          "output_type": "display_data",
          "data": {
            "text/html": [
              "0.632120558828558"
            ],
            "text/markdown": "0.632120558828558",
            "text/latex": "0.632120558828558",
            "text/plain": [
              "[1] 0.6321206"
            ]
          },
          "metadata": {}
        }
      ]
    },
    {
      "cell_type": "markdown",
      "source": [
        "**Ejemplo**\n",
        "\n",
        "Hallar\n",
        "\n",
        "$\\displaystyle\\int_{0}^{1}xe^{x²}dx$"
      ],
      "metadata": {
        "id": "oeyA1mDosjUo"
      }
    },
    {
      "cell_type": "code",
      "source": [
        "n =1000000\n",
        "set.seed(274)\n",
        "x =runif(n)\n",
        "gx=x*exp(x^2)\n",
        "Estimador =mean(gx)\n",
        "Estimador"
      ],
      "metadata": {
        "colab": {
          "base_uri": "https://localhost:8080/",
          "height": 34
        },
        "id": "9kguPATKsiEx",
        "outputId": "96b6016e-b304-479c-ed04-b5a02ef9a37c"
      },
      "execution_count": null,
      "outputs": [
        {
          "output_type": "display_data",
          "data": {
            "text/html": [
              "0.859037038660306"
            ],
            "text/markdown": "0.859037038660306",
            "text/latex": "0.859037038660306",
            "text/plain": [
              "[1] 0.859037"
            ]
          },
          "metadata": {}
        }
      ]
    },
    {
      "cell_type": "markdown",
      "source": [
        "Hallando su integral analiticamente por sustitucion o cambio de variable obtenemos\n",
        "\n",
        "$$\\displaystyle\\int_{0}^{1}xe^{x^2}dx=0.5(e-1)=0.8591 $$"
      ],
      "metadata": {
        "id": "Xa8bigRktQD2"
      }
    },
    {
      "cell_type": "markdown",
      "source": [
        "**Ejemplo**: Hallar\n",
        "\n",
        "\n",
        "$$\\displaystyle\\int_{1}^{3}xe^{x^2}dx$$"
      ],
      "metadata": {
        "id": "H8vtPFu5zNn9"
      }
    },
    {
      "cell_type": "code",
      "source": [
        "n=1000000\n",
        "set.seed(143)\n",
        "ui=runif(n,0,1)"
      ],
      "metadata": {
        "id": "n7yjo3mgyOTS"
      },
      "execution_count": null,
      "outputs": []
    },
    {
      "cell_type": "code",
      "source": [
        "a=1\n",
        "b=3\n",
        "xi=a+(b-a)*ui"
      ],
      "metadata": {
        "id": "5U02l_W7yObV"
      },
      "execution_count": null,
      "outputs": []
    },
    {
      "cell_type": "code",
      "source": [
        "gxi=xi*exp(xi^2)"
      ],
      "metadata": {
        "id": "1ULRVusEyOfh"
      },
      "execution_count": null,
      "outputs": []
    },
    {
      "cell_type": "code",
      "source": [
        "I=(b-a)*(1/n)*sum(gxi)\n",
        "I"
      ],
      "metadata": {
        "colab": {
          "base_uri": "https://localhost:8080/",
          "height": 34
        },
        "id": "IKSII5nJ0eOT",
        "outputId": "68eb5f0c-6996-4c8b-ec15-8ce11177ef9e"
      },
      "execution_count": null,
      "outputs": [
        {
          "output_type": "display_data",
          "data": {
            "text/html": [
              "4036.21317035408"
            ],
            "text/markdown": "4036.21317035408",
            "text/latex": "4036.21317035408",
            "text/plain": [
              "[1] 4036.213"
            ]
          },
          "metadata": {}
        }
      ]
    },
    {
      "cell_type": "code",
      "source": [
        "integrate(function(x) x*exp(x^2), lower = 1, upper = 3)"
      ],
      "metadata": {
        "colab": {
          "base_uri": "https://localhost:8080/",
          "height": 35
        },
        "id": "M0Ja42Hy5kZV",
        "outputId": "88e759e5-9d3d-4377-d0f6-fbb8faec98c1"
      },
      "execution_count": null,
      "outputs": [
        {
          "output_type": "display_data",
          "data": {
            "text/plain": [
              "4050.183 with absolute error < 2e-06"
            ]
          },
          "metadata": {}
        }
      ]
    },
    {
      "cell_type": "markdown",
      "source": [
        "**Ejemplo**: Hallar\n",
        "\n",
        "\n",
        "$$\\displaystyle\\int_{1}^{3}\\frac{e^x}{1+e^x}dx$$"
      ],
      "metadata": {
        "id": "huZg_hlOXfWv"
      }
    },
    {
      "cell_type": "code",
      "source": [
        "n=100000\n",
        "set.seed(234)\n",
        "ui=runif(n,0,1)\n",
        "ui=round(ui,4)\n"
      ],
      "metadata": {
        "id": "SHUcHe3N0eQb"
      },
      "execution_count": null,
      "outputs": []
    },
    {
      "cell_type": "code",
      "source": [
        "a=1\n",
        "b=3\n",
        "xi=a+(b-a)*ui\n"
      ],
      "metadata": {
        "id": "tPhOa6lFZDEc"
      },
      "execution_count": null,
      "outputs": []
    },
    {
      "cell_type": "code",
      "source": [
        "gxi=exp(xi)/(1+exp(xi))\n",
        "gxi=round(gxi,4)\n"
      ],
      "metadata": {
        "id": "AaqhTb560eTa"
      },
      "execution_count": null,
      "outputs": []
    },
    {
      "cell_type": "code",
      "source": [
        "I=((b-a)/n)*sum(gxi)\n",
        "I"
      ],
      "metadata": {
        "id": "0sRt5fV_0eXR",
        "colab": {
          "base_uri": "https://localhost:8080/",
          "height": 34
        },
        "outputId": "9fcce478-f056-47e3-904d-5a0ba2c1a993"
      },
      "execution_count": null,
      "outputs": [
        {
          "output_type": "display_data",
          "data": {
            "text/html": [
              "1.735103794"
            ],
            "text/markdown": "1.735103794",
            "text/latex": "1.735103794",
            "text/plain": [
              "[1] 1.735104"
            ]
          },
          "metadata": {}
        }
      ]
    },
    {
      "cell_type": "markdown",
      "source": [
        "$$\\displaystyle\\int_{1}^{3}\\frac{e^x}{1+e^x}dx=1.73532566405552$$"
      ],
      "metadata": {
        "id": "691v2s3Pavdt"
      }
    },
    {
      "cell_type": "code",
      "source": [
        "I=log(1+(exp(1))^3)-log(1+(exp(1)))\n",
        "I"
      ],
      "metadata": {
        "colab": {
          "base_uri": "https://localhost:8080/",
          "height": 34
        },
        "id": "u9ZUuj1EYXi9",
        "outputId": "534781c8-de8c-4d77-d1bb-1147e274a35f"
      },
      "execution_count": null,
      "outputs": [
        {
          "output_type": "display_data",
          "data": {
            "text/html": [
              "1.73532566405552"
            ],
            "text/markdown": "1.73532566405552",
            "text/latex": "1.73532566405552",
            "text/plain": [
              "[1] 1.735326"
            ]
          },
          "metadata": {}
        }
      ]
    },
    {
      "cell_type": "code",
      "source": [
        "integrate(function(x) exp(x)/(1+exp(x)), lower = 1, upper = 3)"
      ],
      "metadata": {
        "id": "Ohel3gpxYXml",
        "colab": {
          "base_uri": "https://localhost:8080/",
          "height": 35
        },
        "outputId": "f85abd84-177c-4323-83df-6c6928fa7e07"
      },
      "execution_count": null,
      "outputs": [
        {
          "output_type": "display_data",
          "data": {
            "text/plain": [
              "1.735326 with absolute error < 1.9e-14"
            ]
          },
          "metadata": {}
        }
      ]
    },
    {
      "cell_type": "markdown",
      "source": [
        "**Ejemplo**\n",
        "\n",
        "Hallar\n",
        "\n",
        "$\\displaystyle\\int_{2}^{4}e^{-x}dx$"
      ],
      "metadata": {
        "id": "9hpqZAGJg4cz"
      }
    },
    {
      "cell_type": "code",
      "source": [
        "n = 1000\n",
        "a=2\n",
        "b=4\n",
        "set.seed(274)\n",
        "u =runif(n)\n",
        "x=a+(b-a)*u\n",
        "gxi=exp(-x)\n",
        "Estimador=(b-a)*sum(gxi)/n\n",
        "Estimador"
      ],
      "metadata": {
        "colab": {
          "base_uri": "https://localhost:8080/",
          "height": 34
        },
        "id": "elJ6eJdmg9fP",
        "outputId": "ea351d23-2e2c-4715-9248-63fbaa98cc2b"
      },
      "execution_count": null,
      "outputs": [
        {
          "output_type": "display_data",
          "data": {
            "text/html": [
              "0.115708986759695"
            ],
            "text/markdown": "0.115708986759695",
            "text/latex": "0.115708986759695",
            "text/plain": [
              "[1] 0.115709"
            ]
          },
          "metadata": {}
        }
      ]
    },
    {
      "cell_type": "code",
      "source": [
        "n = 1000\n",
        "a=2\n",
        "b=4\n",
        "set.seed(274)\n",
        "u =runif(n)\n",
        "x=a+(b-a)*u\n",
        "gxi=exp(-x)\n",
        "Estimador=(b-a)*mean(gxi)\n",
        "Estimador"
      ],
      "metadata": {
        "colab": {
          "base_uri": "https://localhost:8080/",
          "height": 34
        },
        "id": "Ata_zy-z6_oM",
        "outputId": "0fa85920-3111-48f1-83b5-6644afc15455"
      },
      "execution_count": null,
      "outputs": [
        {
          "output_type": "display_data",
          "data": {
            "text/html": [
              "0.115708986759695"
            ],
            "text/markdown": "0.115708986759695",
            "text/latex": "0.115708986759695",
            "text/plain": [
              "[1] 0.115709"
            ]
          },
          "metadata": {}
        }
      ]
    },
    {
      "cell_type": "markdown",
      "source": [
        "Hallando su integral analiticamente por sustitucion o cambio de variable obtenemos\n",
        "\n",
        "$$\\displaystyle\\int_{2}^{4}e^{-x}dx=e^{-2}-e^{-4}$$"
      ],
      "metadata": {
        "id": "TEj7Fcc_Fpbz"
      }
    },
    {
      "cell_type": "code",
      "source": [
        "I=exp(-2) - exp(-4)\n",
        "I"
      ],
      "metadata": {
        "colab": {
          "base_uri": "https://localhost:8080/",
          "height": 34
        },
        "id": "qxcPvWqkFpxs",
        "outputId": "03cc7c51-a61f-44b4-c966-317923d33d70"
      },
      "execution_count": null,
      "outputs": [
        {
          "output_type": "display_data",
          "data": {
            "text/html": [
              "0.117019644347879"
            ],
            "text/markdown": "0.117019644347879",
            "text/latex": "0.117019644347879",
            "text/plain": [
              "[1] 0.1170196"
            ]
          },
          "metadata": {}
        }
      ]
    },
    {
      "cell_type": "markdown",
      "source": [
        "## **Cálculo de probabilidades de la distribución normal estandar**\n",
        "\n",
        "Si $X \\sim N(0,1)$ usando la regla empirica tenemos"
      ],
      "metadata": {
        "id": "TKilqsBbXYZ_"
      }
    },
    {
      "cell_type": "code",
      "source": [
        "x=seq(-4,4,0.1)\n",
        "y=dnorm(x,0,1)\n",
        "plot(x,y, type=\"l\", lwd=2,col=\"blue\")"
      ],
      "metadata": {
        "colab": {
          "base_uri": "https://localhost:8080/",
          "height": 437
        },
        "id": "qHBTLSFXX9mG",
        "outputId": "2fa03551-4af2-4ebe-ea3c-e21fe6bb2e64"
      },
      "execution_count": null,
      "outputs": [
        {
          "output_type": "display_data",
          "data": {
            "text/plain": [
              "plot without title"
            ],
            "image/png": "[encoded data removed]"
          },
          "metadata": {
            "image/png": {
              "width": 420,
              "height": 420
            }
          }
        }
      ]
    },
    {
      "cell_type": "markdown",
      "source": [
        "$$\\int_{-\\infty}^{\\infty}f(x)dx=1$$\n",
        "\n",
        "$$I=\\int_{-4}^{4}f(x)dx \\approx 1$$"
      ],
      "metadata": {
        "id": "q-pYZEsPZE62"
      }
    },
    {
      "cell_type": "code",
      "source": [
        "I=pnorm(4,0,1)-pnorm(-4,0,1)\n",
        "I"
      ],
      "metadata": {
        "colab": {
          "base_uri": "https://localhost:8080/",
          "height": 34
        },
        "id": "FyOIF2fiZC8M",
        "outputId": "e0dce5f5-775c-4721-ce95-7f31f3331ad5"
      },
      "execution_count": null,
      "outputs": [
        {
          "output_type": "display_data",
          "data": {
            "text/html": [
              "0.999936657516334"
            ],
            "text/markdown": "0.999936657516334",
            "text/latex": "0.999936657516334",
            "text/plain": [
              "[1] 0.9999367"
            ]
          },
          "metadata": {}
        }
      ]
    },
    {
      "cell_type": "markdown",
      "source": [
        "---"
      ],
      "metadata": {
        "id": "QZSsReYXager"
      }
    },
    {
      "cell_type": "markdown",
      "source": [
        "**Ejemplo:** Sea $X \\sim N(0,1)$ estimar $P(X<1.23)$"
      ],
      "metadata": {
        "id": "5lCXLAduano4"
      }
    },
    {
      "cell_type": "code",
      "source": [
        "n = 10000\n",
        "a=-4\n",
        "b=1.23\n",
        "set.seed(274)\n",
        "x =runif(n,a,b)\n",
        "gx=dnorm(x,0,1)\n",
        "I=(b-a)*mean(gx)\n",
        "I"
      ],
      "metadata": {
        "colab": {
          "base_uri": "https://localhost:8080/",
          "height": 34
        },
        "id": "h79y7MfydNfX",
        "outputId": "c4339ed2-b422-4073-88a0-e92ae260ebde"
      },
      "execution_count": null,
      "outputs": [
        {
          "output_type": "display_data",
          "data": {
            "text/html": [
              "0.896183521664687"
            ],
            "text/markdown": "0.896183521664687",
            "text/latex": "0.896183521664687",
            "text/plain": [
              "[1] 0.8961835"
            ]
          },
          "metadata": {}
        }
      ]
    },
    {
      "cell_type": "markdown",
      "source": [
        "Usando la distribución normal estandar"
      ],
      "metadata": {
        "id": "-ut5ylrrdyU8"
      }
    },
    {
      "cell_type": "code",
      "source": [
        "pnorm(1.23,0,1)"
      ],
      "metadata": {
        "colab": {
          "base_uri": "https://localhost:8080/",
          "height": 34
        },
        "id": "oQ_Uij7cdz7d",
        "outputId": "f9987683-62ac-43cd-95e2-09fe3cbe675b"
      },
      "execution_count": null,
      "outputs": [
        {
          "output_type": "display_data",
          "data": {
            "text/html": [
              "0.890651447574308"
            ],
            "text/markdown": "0.890651447574308",
            "text/latex": "0.890651447574308",
            "text/plain": [
              "[1] 0.8906514"
            ]
          },
          "metadata": {}
        }
      ]
    },
    {
      "cell_type": "markdown",
      "source": [
        "**Usando la generacion de muestras aleatorias**"
      ],
      "metadata": {
        "id": "MGgQNd2HeHmv"
      }
    },
    {
      "cell_type": "code",
      "source": [
        "n = 10000\n",
        "x=rnorm(n,0,1)\n",
        "hist(x,prob=TRUE)"
      ],
      "metadata": {
        "colab": {
          "base_uri": "https://localhost:8080/",
          "height": 437
        },
        "id": "S8yDnh6beOFQ",
        "outputId": "af8271d7-2fc5-4d16-9127-ba37ea3e44f5"
      },
      "execution_count": null,
      "outputs": [
        {
          "output_type": "display_data",
          "data": {
            "text/plain": [
              "Plot with title “Histogram of x”"
            ],
            "image/png": "[encoded data removed]"
          },
          "metadata": {
            "image/png": {
              "width": 420,
              "height": 420
            }
          }
        }
      ]
    },
    {
      "cell_type": "code",
      "source": [
        "x=c(-8,2,5,-3,1,6,7)\n",
        "x<3"
      ],
      "metadata": {
        "colab": {
          "base_uri": "https://localhost:8080/",
          "height": 34
        },
        "id": "nTdkMUXxr2Kd",
        "outputId": "46befd19-ec07-4a1d-eb2d-ef1ed755c47a"
      },
      "execution_count": null,
      "outputs": [
        {
          "output_type": "display_data",
          "data": {
            "text/html": [
              "<style>\n",
              ".list-inline {list-style: none; margin:0; padding: 0}\n",
              ".list-inline>li {display: inline-block}\n",
              ".list-inline>li:not(:last-child)::after {content: \"\\00b7\"; padding: 0 .5ex}\n",
              "</style>\n",
              "<ol class=list-inline><li>TRUE</li><li>TRUE</li><li>FALSE</li><li>TRUE</li><li>TRUE</li><li>FALSE</li><li>FALSE</li></ol>\n"
            ],
            "text/markdown": "1. TRUE\n2. TRUE\n3. FALSE\n4. TRUE\n5. TRUE\n6. FALSE\n7. FALSE\n\n\n",
            "text/latex": "\\begin{enumerate*}\n\\item TRUE\n\\item TRUE\n\\item FALSE\n\\item TRUE\n\\item TRUE\n\\item FALSE\n\\item FALSE\n\\end{enumerate*}\n",
            "text/plain": [
              "[1]  TRUE  TRUE FALSE  TRUE  TRUE FALSE FALSE"
            ]
          },
          "metadata": {}
        }
      ]
    },
    {
      "cell_type": "code",
      "source": [
        "mean(x<3)"
      ],
      "metadata": {
        "colab": {
          "base_uri": "https://localhost:8080/",
          "height": 34
        },
        "id": "efiN4cuusW2B",
        "outputId": "79e31e22-3118-4c7f-a56c-e4173e915683"
      },
      "execution_count": null,
      "outputs": [
        {
          "output_type": "display_data",
          "data": {
            "text/html": [
              "0.571428571428571"
            ],
            "text/markdown": "0.571428571428571",
            "text/latex": "0.571428571428571",
            "text/plain": [
              "[1] 0.5714286"
            ]
          },
          "metadata": {}
        }
      ]
    },
    {
      "cell_type": "code",
      "source": [
        "4/7"
      ],
      "metadata": {
        "colab": {
          "base_uri": "https://localhost:8080/",
          "height": 34
        },
        "id": "S2pCWQ7csno5",
        "outputId": "d924aaf4-3659-4e0f-ec66-3c262710272f"
      },
      "execution_count": null,
      "outputs": [
        {
          "output_type": "display_data",
          "data": {
            "text/html": [
              "0.571428571428571"
            ],
            "text/markdown": "0.571428571428571",
            "text/latex": "0.571428571428571",
            "text/plain": [
              "[1] 0.5714286"
            ]
          },
          "metadata": {}
        }
      ]
    },
    {
      "cell_type": "markdown",
      "source": [
        "Para calcular $P(a<Z<b)$ usando el método de montecarlo, seguimos los siguientes pasos\n",
        "\n",
        "1. Generar muestras aleatorias  de una distribución normal estándar $z_i, i=1,...n$\n",
        "\n",
        "$$rnorm(n,0,1)$$\n",
        "\n",
        "2. Contar las muestras que estan en el intervalo\n",
        "$[a,b]$ definir la variable indicadora $I_i$\n",
        "\n",
        " * $I_i=1$ si $z_i \\in [a,b]$\n",
        " * $I_i=0$ si $z_i \\notin [a,b]$\n",
        "\n",
        "3. Calcular la probabilidad estimada\n",
        "\n",
        "$$P(a<Z<b) \\approx \\frac{\\displaystyle \\sum_{i=1}^n I_i}{n}$$\n"
      ],
      "metadata": {
        "id": "Asl5dQF0tCnl"
      }
    },
    {
      "cell_type": "markdown",
      "source": [
        "**Ejemplo:** Sea $X \\sim N(0,1)$ estimar $P(X<1.23)$"
      ],
      "metadata": {
        "id": "GWj4JM3Ee3cF"
      }
    },
    {
      "cell_type": "code",
      "source": [
        "n=100000\n",
        "x=rnorm(n,0,1)\n",
        "I=mean(x<1.23)\n",
        "I"
      ],
      "metadata": {
        "colab": {
          "base_uri": "https://localhost:8080/",
          "height": 34
        },
        "id": "Ghqk9ScLe3vx",
        "outputId": "49d0809d-d232-4b10-cdf9-e3669337a010"
      },
      "execution_count": null,
      "outputs": [
        {
          "output_type": "display_data",
          "data": {
            "text/html": [
              "0.88903"
            ],
            "text/markdown": "0.88903",
            "text/latex": "0.88903",
            "text/plain": [
              "[1] 0.88903"
            ]
          },
          "metadata": {}
        }
      ]
    },
    {
      "cell_type": "markdown",
      "source": [
        "**Ejemplo:** Sea $X \\sim N(0,1)$ estimar $P(X<-1.83)$"
      ],
      "metadata": {
        "id": "LLHqrRU8hFcw"
      }
    },
    {
      "cell_type": "code",
      "source": [
        "n=100000\n",
        "x=rnorm(n,0,1)\n",
        "I=mean(x < -1.83)\n",
        "I"
      ],
      "metadata": {
        "colab": {
          "base_uri": "https://localhost:8080/",
          "height": 34
        },
        "id": "S-uKqmO5hGEK",
        "outputId": "6e39a021-4b49-48e7-8d38-750fba03c150"
      },
      "execution_count": null,
      "outputs": [
        {
          "output_type": "display_data",
          "data": {
            "text/html": [
              "0.03375"
            ],
            "text/markdown": "0.03375",
            "text/latex": "0.03375",
            "text/plain": [
              "[1] 0.03375"
            ]
          },
          "metadata": {}
        }
      ]
    },
    {
      "cell_type": "code",
      "source": [
        "pnorm(-1.83,0,1)"
      ],
      "metadata": {
        "colab": {
          "base_uri": "https://localhost:8080/",
          "height": 34
        },
        "id": "sOS2Q1c0hlnz",
        "outputId": "2cc9571b-0eab-4096-c8d8-e212208f9acf"
      },
      "execution_count": null,
      "outputs": [
        {
          "output_type": "display_data",
          "data": {
            "text/html": [
              "0.0336249694196283"
            ],
            "text/markdown": "0.0336249694196283",
            "text/latex": "0.0336249694196283",
            "text/plain": [
              "[1] 0.03362497"
            ]
          },
          "metadata": {}
        }
      ]
    },
    {
      "cell_type": "markdown",
      "source": [
        "**Ejemplo:** Sea $X \\sim N(0,1)$ estimar $P(X>2)$"
      ],
      "metadata": {
        "id": "E14i6X4aSr7C"
      }
    },
    {
      "cell_type": "code",
      "source": [
        "n=100000\n",
        "x=rnorm(n,0,1)\n",
        "I=mean(x>2)\n",
        "I"
      ],
      "metadata": {
        "colab": {
          "base_uri": "https://localhost:8080/",
          "height": 34
        },
        "id": "NM6kI1Z9SsaU",
        "outputId": "7a1eb4c9-65e2-4da3-a0ed-a4e6d12a6500"
      },
      "execution_count": null,
      "outputs": [
        {
          "output_type": "display_data",
          "data": {
            "text/html": [
              "0.02346"
            ],
            "text/markdown": "0.02346",
            "text/latex": "0.02346",
            "text/plain": [
              "[1] 0.02346"
            ]
          },
          "metadata": {}
        }
      ]
    },
    {
      "cell_type": "markdown",
      "source": [
        "Usando la distribución normal estandar"
      ],
      "metadata": {
        "id": "VBSM5PTYT6zi"
      }
    },
    {
      "cell_type": "code",
      "source": [
        "1-pnorm(2,0,1)"
      ],
      "metadata": {
        "colab": {
          "base_uri": "https://localhost:8080/",
          "height": 34
        },
        "id": "I-jY3kHgT6cV",
        "outputId": "0be50000-58c6-4368-9793-d450ed9c2d4b"
      },
      "execution_count": null,
      "outputs": [
        {
          "output_type": "display_data",
          "data": {
            "text/html": [
              "0.0227501319481792"
            ],
            "text/markdown": "0.0227501319481792",
            "text/latex": "0.0227501319481792",
            "text/plain": [
              "[1] 0.02275013"
            ]
          },
          "metadata": {}
        }
      ]
    },
    {
      "cell_type": "markdown",
      "source": [
        "# **Montecarlo para inferencia**"
      ],
      "metadata": {
        "id": "mIpFhqfzT_LT"
      }
    },
    {
      "cell_type": "markdown",
      "source": [
        "Los métodos de Monte Carlo se pueden aplicar para estimar parámetros de la distribución de muestreo de una estadística, probabilidades o funciones de una distribución usando grandes cantidades de simulaciones aleatorias\n",
        "\n",
        "Supongamos que $X_1,. . ., X_n$ es una muestra aleatoria de la distribución de $X$. Un\n",
        "estimador $\\hat{\\theta}$ para un parámetro $\\theta$ es una función $n$ variables\n",
        "$\\hat{\\theta} = \\hat{\\theta} (X_1,..., X_n)$"
      ],
      "metadata": {
        "id": "DbiFLYTHUqxO"
      }
    },
    {
      "cell_type": "markdown",
      "source": [
        "Aproximación de la media $\\mu$ y varianza $\\sigma^2$ de una distribución normal"
      ],
      "metadata": {
        "id": "VUhMA5KVEI9H"
      }
    },
    {
      "cell_type": "markdown",
      "source": [
        "## **Aproximación de la media y la varianza de una distribución normal**"
      ],
      "metadata": {
        "id": "aXi_WmBnEjst"
      }
    },
    {
      "cell_type": "markdown",
      "source": [
        "**Ejemplo:** Estimar $\\mu$ y $\\sigma ^2$ para la variable aleatoria $X\\sim N(5,9)$"
      ],
      "metadata": {
        "id": "_Nv0Y_bXE9vj"
      }
    },
    {
      "cell_type": "code",
      "source": [
        "set.seed(25)\n",
        "n=100000\n",
        "x=rnorm(n,5,3)"
      ],
      "metadata": {
        "id": "dtM5y1aBEJk4"
      },
      "execution_count": null,
      "outputs": []
    },
    {
      "cell_type": "code",
      "source": [
        "Ex=mean(x)\n",
        "cat(\"Media estimada\",Ex)"
      ],
      "metadata": {
        "colab": {
          "base_uri": "https://localhost:8080/"
        },
        "id": "um2DGkBOG04O",
        "outputId": "6f8e5921-4019-412b-8eda-959c36d21675"
      },
      "execution_count": null,
      "outputs": [
        {
          "output_type": "stream",
          "name": "stdout",
          "text": [
            "Media estimada 5.00273"
          ]
        }
      ]
    },
    {
      "cell_type": "code",
      "source": [
        "Vx=var(x)\n",
        "cat(\"Varianza estimada\",Vx)"
      ],
      "metadata": {
        "colab": {
          "base_uri": "https://localhost:8080/"
        },
        "id": "C-jnNo9CG1iP",
        "outputId": "3da955e5-0bac-4cee-dee3-79359feadc8a"
      },
      "execution_count": null,
      "outputs": [
        {
          "output_type": "stream",
          "name": "stdout",
          "text": [
            "Varianza estimada 9.043212"
          ]
        }
      ]
    },
    {
      "cell_type": "code",
      "source": [
        "hist(x,prob=TRUE,col=\"yellow\",ylim=c(0,0.15))\n",
        "curve(dnorm(x,5,3),add=TRUE,lwd=3,col=\"blue\")"
      ],
      "metadata": {
        "colab": {
          "base_uri": "https://localhost:8080/",
          "height": 437
        },
        "id": "x7lpWGRJHEco",
        "outputId": "0dc53b73-5fe6-474f-b881-ae8b46b264df"
      },
      "execution_count": null,
      "outputs": [
        {
          "output_type": "display_data",
          "data": {
            "text/plain": [
              "Plot with title “Histogram of x”"
            ],
            "image/png": "[encoded data removed]"
          },
          "metadata": {
            "image/png": {
              "width": 420,
              "height": 420
            }
          }
        }
      ]
    },
    {
      "cell_type": "markdown",
      "source": [
        "## **Aproximación del parametro $p$ de la distribución Binomial**"
      ],
      "metadata": {
        "id": "M4SBTdA_pIPX"
      }
    },
    {
      "cell_type": "markdown",
      "source": [
        "**Ejemplo:** Estimar $p$ en $X\\sim Bin(n,p)$  con $n=10$ y $p=0.3$"
      ],
      "metadata": {
        "id": "0Vy4RXtmlotR"
      }
    },
    {
      "cell_type": "code",
      "source": [
        "set.seed(23)\n",
        "N = 100\n",
        "n = 10\n",
        "p= 0.3\n",
        "muestra=rbinom(N,n,p)\n",
        "# La estimación de p es la media de éxitos / n)\n",
        "p_est=mean(muestra)/n\n",
        "cat(\"Proporción estimada:\", p_est)\n",
        "p"
      ],
      "metadata": {
        "colab": {
          "base_uri": "https://localhost:8080/",
          "height": 53
        },
        "id": "StkYW-hOlo-9",
        "outputId": "07638b42-c1dd-4379-d028-f8e903c306c6"
      },
      "execution_count": null,
      "outputs": [
        {
          "output_type": "stream",
          "name": "stdout",
          "text": [
            "Proporción estimada: 0.313"
          ]
        },
        {
          "output_type": "display_data",
          "data": {
            "text/html": [
              "0.3"
            ],
            "text/markdown": "0.3",
            "text/latex": "0.3",
            "text/plain": [
              "[1] 0.3"
            ]
          },
          "metadata": {}
        }
      ]
    },
    {
      "cell_type": "code",
      "source": [
        "x=seq(0,n,1)\n",
        "y=dbinom(x,n,p)\n",
        "plot(x,y,type='o',col=\"blue\")\n",
        "y1=dbinom(x,n,p_est)\n",
        "lines(x,y1,type='b',col=\"red\")\n",
        "legend(x = \"topright\", legend = c(\"Binomial \", \"Binomial_estimada\"), fill = c(\"blue\", \"red\"),\n",
        "       title = \"Aproximación\")"
      ],
      "metadata": {
        "colab": {
          "base_uri": "https://localhost:8080/",
          "height": 437
        },
        "id": "Wvp5Lb6dnZeZ",
        "outputId": "595c4e14-5602-4170-ffcb-199ba3cde441"
      },
      "execution_count": null,
      "outputs": [
        {
          "output_type": "display_data",
          "data": {
            "text/plain": [
              "plot without title"
            ],
            "image/png": "[encoded data removed]"
          },
          "metadata": {
            "image/png": {
              "width": 420,
              "height": 420
            }
          }
        }
      ]
    },
    {
      "cell_type": "markdown",
      "source": [
        "## **Estimacion del error estandar de la media**\n",
        "\n",
        "\n",
        "El error estandar de la media muestral $\\overline X$ de tamaño $n$ esta dado por:\n",
        "\n",
        "\n",
        " $$\\sigma_{\\overline X}=\\frac{\\sigma}{\\sqrt{n}}$$, donde\n",
        "\n",
        "\\begin{equation}\n",
        "\\hat {\\sigma_{\\overline X}}=\\sqrt{\\frac{1}{N}\\sum\\limits_{i=1}^N(\\overline X_i-\\mu)^2}\n",
        "\\end{equation}"
      ],
      "metadata": {
        "id": "c0KV4cPGVUfb"
      }
    },
    {
      "cell_type": "markdown",
      "source": [
        "**Ejemplo:** Estimar $\\sigma_{\\overline X}$ para la media de la distribucion normal  $X\\sim N(\\mu,\\sigma^2)$  con $\\mu=5$ y $\\sigma=2$, on tamaño de muestra $n=30$"
      ],
      "metadata": {
        "id": "urHsQmJNrGVe"
      }
    },
    {
      "cell_type": "code",
      "source": [
        "set.seed(123)\n",
        "mu=5          # Media teorica\n",
        "sigma=2       # Desviación estándar teorica\n",
        "n=30          # Tamaño de cada muestra\n",
        "N=10000       # Número de muestras a generar"
      ],
      "metadata": {
        "id": "-esMO4txrx5o"
      },
      "execution_count": null,
      "outputs": []
    },
    {
      "cell_type": "code",
      "source": [
        "M=matrix(0,1,N)\n",
        "#M"
      ],
      "metadata": {
        "id": "VyLugiMTy-Wv"
      },
      "execution_count": null,
      "outputs": []
    },
    {
      "cell_type": "code",
      "source": [
        "M=matrix(0,1,N)\n",
        "for(i in 1:N){\n",
        "muestra=rnorm(n,mu,sigma)\n",
        "#print(muestra)\n",
        "M[i]=mean(muestra)\n",
        "#print(M[i])\n",
        "}"
      ],
      "metadata": {
        "id": "v_Eumx_jvL_c"
      },
      "execution_count": null,
      "outputs": []
    },
    {
      "cell_type": "markdown",
      "source": [
        "Error muestral estimado $\\hat {\\sigma_{\\overline X}}$"
      ],
      "metadata": {
        "id": "yAmac_OZ21CH"
      }
    },
    {
      "cell_type": "code",
      "source": [
        "S_est=sd(M)\n",
        "S_est"
      ],
      "metadata": {
        "colab": {
          "base_uri": "https://localhost:8080/",
          "height": 34
        },
        "id": "0aYEdQySySWT",
        "outputId": "c2529195-b535-4541-894c-a1a253ecc178"
      },
      "execution_count": null,
      "outputs": [
        {
          "output_type": "display_data",
          "data": {
            "text/html": [
              "0.361364079573018"
            ],
            "text/markdown": "0.361364079573018",
            "text/latex": "0.361364079573018",
            "text/plain": [
              "[1] 0.3613641"
            ]
          },
          "metadata": {}
        }
      ]
    },
    {
      "cell_type": "markdown",
      "source": [
        "Error muestral estimado $\\sigma_{\\overline X}$"
      ],
      "metadata": {
        "id": "3Bqwg6MB3K-g"
      }
    },
    {
      "cell_type": "code",
      "source": [
        "Sx=sigma/sqrt(n)\n",
        "Sx"
      ],
      "metadata": {
        "colab": {
          "base_uri": "https://localhost:8080/",
          "height": 34
        },
        "id": "V6YJL-yS0ZsE",
        "outputId": "fc970e0c-0aea-4e64-dce5-76d4f23156ff"
      },
      "execution_count": null,
      "outputs": [
        {
          "output_type": "display_data",
          "data": {
            "text/html": [
              "0.365148371670111"
            ],
            "text/markdown": "0.365148371670111",
            "text/latex": "0.365148371670111",
            "text/plain": [
              "[1] 0.3651484"
            ]
          },
          "metadata": {}
        }
      ]
    },
    {
      "cell_type": "markdown",
      "source": [
        "**Usando el comando $replicate$**"
      ],
      "metadata": {
        "id": "lZeIURi-3T9L"
      }
    },
    {
      "cell_type": "code",
      "source": [
        "set.seed(123)\n",
        "mu=5          # Media teorica\n",
        "sigma=2       # Desviación estándar teorica\n",
        "n=30          # Tamaño de cada muestra\n",
        "N=10000       # Número de muestras a generar"
      ],
      "metadata": {
        "id": "RiUq6Y1g2j2f"
      },
      "execution_count": null,
      "outputs": []
    },
    {
      "cell_type": "code",
      "source": [
        "# Matriz para almacenar las medias de cada muestra\n",
        "Mm =replicate(N,{muestra=rnorm(n,mu,sigma)\n",
        "mean(muestra)\n",
        "})"
      ],
      "metadata": {
        "id": "RgGBnScqr90g"
      },
      "execution_count": null,
      "outputs": []
    },
    {
      "cell_type": "code",
      "source": [
        "# Error estandar estimado (desviación estándar de las medias muestrales)\n",
        "S_estimado = sd(Mm)\n",
        "S_estimado"
      ],
      "metadata": {
        "colab": {
          "base_uri": "https://localhost:8080/",
          "height": 34
        },
        "id": "ZbyFEf36sjkn",
        "outputId": "5b2c2aa1-c868-453b-93a9-29d6ab2e9b73"
      },
      "execution_count": null,
      "outputs": [
        {
          "output_type": "display_data",
          "data": {
            "text/html": [
              "0.363690888744891"
            ],
            "text/markdown": "0.363690888744891",
            "text/latex": "0.363690888744891",
            "text/plain": [
              "[1] 0.3636909"
            ]
          },
          "metadata": {}
        }
      ]
    },
    {
      "cell_type": "code",
      "source": [
        "Sx = sigma / sqrt(n)\n",
        "Sx"
      ],
      "metadata": {
        "colab": {
          "base_uri": "https://localhost:8080/",
          "height": 34
        },
        "id": "lhJnwgyz4Id_",
        "outputId": "49a13938-0ecd-43fb-80bf-7c841fa2b1d3"
      },
      "execution_count": null,
      "outputs": [
        {
          "output_type": "display_data",
          "data": {
            "text/html": [
              "0.365148371670111"
            ],
            "text/markdown": "0.365148371670111",
            "text/latex": "0.365148371670111",
            "text/plain": [
              "[1] 0.3651484"
            ]
          },
          "metadata": {}
        }
      ]
    },
    {
      "cell_type": "markdown",
      "source": [
        "---"
      ],
      "metadata": {
        "id": "Ujmhdz4qmkwE"
      }
    },
    {
      "cell_type": "markdown",
      "source": [
        "## **Trabajo encargado**"
      ],
      "metadata": {
        "id": "vIQWtU0omlOY"
      }
    },
    {
      "cell_type": "markdown",
      "source": [
        "1. Usando el metodo de Montecralo. Estimar $\\mu$ y $\\sigma ^2$ para la variable aleatoria $X\\sim N(5,9)$\n",
        "2. Estimar $\\sigma_{\\overline X}$ para la media de la distribucion normal  $X\\sim N(\\mu,\\sigma^2)$  con $\\mu=75$ y $\\sigma=1.2$, con tamaño de muestra $n=55$\n",
        "3. Un hospital quiere estimar el tiempo promedio de espera (en minutos) en urgencias. Registra el tiempo de 100 pacientes cada día durante 200 días y calcula el error estandar muestral para evaluar la variabilidad.\n",
        "4. Un agricultor quiere estimar el rendimiento promedio de tomates por planta (en kg) en su campo. Como no puede medir todas las plantas, toma muestras de 50 plantas en diferentes sectores y repite este proceso 500 veces para calcular el error estandar muestral.\n",
        "5. Una compañía eléctrica analiza el consumo promedio mensual (en kWh) en 50 hogares. Repite el muestreo 300 veces para estimar el SEM y planificar la demanda energética.\n",
        "6. Aproximar los coeficientes $\\beta_0$, y $\\beta_1$ en el modelo $Y=\\beta_0 + \\beta_1X+\\epsilon$. De ejemplos\n"
      ],
      "metadata": {
        "id": "izVCvr_smrcD"
      }
    }
  ]
}