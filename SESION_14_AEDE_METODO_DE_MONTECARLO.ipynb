{
  "nbformat": 4,
  "nbformat_minor": 0,
  "metadata": {
    "colab": {
      "provenance": [],
      "include_colab_link": true
    },
    "kernelspec": {
      "name": "ir",
      "display_name": "R"
    }
  },
  "cells": [
    {
      "cell_type": "markdown",
      "metadata": {
        "id": "view-in-github",
        "colab_type": "text"
      },
      "source": [
        "<a href=\"https://colab.research.google.com/github/ALdoMartineCh16/Analisis-Exploratorio-de-Datos-Espaciales/blob/main/SESION_14_AEDE_METODO_DE_MONTECARLO.ipynb\" target=\"_parent\"><img src=\"https://colab.research.google.com/assets/colab-badge.svg\" alt=\"Open In Colab\"/></a>"
      ]
    },
    {
      "cell_type": "markdown",
      "source": [
        "<img src=\"https://drive.google.com/uc?export=view&id=1QyjJW7NL2WDfnVZ0_MqAfH6Slkal1DJA\" width=\"150\">\n",
        "\n",
        "$\\tiny{Universidad \\ Nacional \\ de \\ San \\ Agustín \\ de \\ Arequipa \\\\\n",
        "Ciencia \\ de \\ la \\ Computación \\ UNSA}$\n",
        "\n",
        "---"
      ],
      "metadata": {
        "id": "JYJSPuwlu_wa"
      }
    },
    {
      "cell_type": "markdown",
      "source": [
        "# <center>  $Capitulo \\ 6$\n",
        "\n",
        "\n",
        "### <center> $Método \\ de \\ Montecarlo$"
      ],
      "metadata": {
        "id": "hQcvGf7EWHQy"
      }
    },
    {
      "cell_type": "markdown",
      "source": [
        "\n",
        "**Sesión de Laboratorio 14 :** Método de Montecarlo\n",
        "\n",
        "**Profesor:** SERGIO MOISES AQUISE ESCOBEDO\n",
        "\n",
        "**Estudiante:** Aldo Raúl Martinez Choque\n",
        "\n",
        "---\n",
        "\n",
        "\n",
        "\n"
      ],
      "metadata": {
        "id": "P9035iJ6WCMH"
      }
    },
    {
      "cell_type": "markdown",
      "source": [
        "# **El Método de Montecarlo**\n",
        "\n",
        "Habitualmente se utiliza la denominación Monte Carlo para describir cualquier método de cálculo que utilice números aleatorios pero autores como Rubinstein (1981), Ripley (1987) y Lewis y Orav (1989), subrayan la conveniencia de utilizar este término sólo para usos específicos como la \"integración Monte Carlo\" o el \"muestreo Monte Carlo\", y utilizar el término \"simulación estocástica\" para los experimentos que hacen uso de series de números aleatorios generadas por ordenador.\n",
        "\n",
        "## **Ley de los grandes números**\n",
        "\n",
        "Sea $X_1,X_2,.…, X_n$  una muestra de variables aleatorias, y $g:R \\rightarrow R $ tal que $E(g(X_i))=\\mu$ y $V(g(X_i))=\\sigma^2$ entonces\n",
        "\n",
        "\n",
        "$$\\lim_{n \\rightarrow \\infty} \\frac{g(X_1)+...+g(x_n)}{n}=\\mu $$\n",
        "\n",
        "\n",
        "\n",
        "## **Integración numérica usando el Método de Montecarlo**\n",
        "\n",
        "\n",
        "Cálculo de integrales por Montecarlo En el caso que nos ocupa, se desea estimar la integral de una función $g$ continua. Esta integral puede verse como el cálculo del valor esperado de la función g cuando se aplica a una variable aleatoria con distribución uniforme.\n",
        "\n",
        "Supongamos que el intervalo de integración es $[0, 1]$ y sea $X_1,X_2,.…, X_n$  una muestra de variables aleatorias,\n",
        "independientes con distribución uniforme en el intervalo $[0, 1]$, entonces\n",
        "\n",
        "$$\\displaystyle\\int_{0}^{1}g(x)dx=E(g(X))$$\n",
        "\n",
        "$$\\displaystyle\\int_{0}^{1}g(x)dx \\approx \\frac{1}{n}\\sum_{i=1}^ng(x_i)$$\n",
        "\n",
        "Cualquier  integral sobre el intervalo $[a, b]$ se puede transformar a una integral sobre el intervalo [0, 1]  con el siguiente cambio de variable  $x = a + (b - a)u$ , luego  $x_i = a + (b - a)u_i, u_i\\in U(0,1)$ así\n",
        "\n",
        "\n",
        "$$\\int_{a}^{b}g(x)dx \\approx \\frac{b-a}{n}\\sum_{i=1}^ng(a+(b-a)u_i)$$"
      ],
      "metadata": {
        "id": "vYG3R3hUgarW"
      }
    },
    {
      "cell_type": "markdown",
      "source": [
        "**Ejemplo**\n",
        "\n",
        "Hallar\n",
        "\n",
        "$$\\int_0^1x^2dx$$"
      ],
      "metadata": {
        "id": "qGAHv9tuMVcH"
      }
    },
    {
      "cell_type": "code",
      "source": [
        "n=3000\n",
        "set.seed(123)\n",
        "x=runif(n,0,1)\n",
        "x=round(x,4)\n"
      ],
      "metadata": {
        "id": "zpJRl2NrMVyH"
      },
      "execution_count": 1,
      "outputs": []
    },
    {
      "cell_type": "code",
      "source": [
        "gx=x^2\n",
        "gx=round(gx,4)\n"
      ],
      "metadata": {
        "id": "W_SovC-PNw1I"
      },
      "execution_count": 2,
      "outputs": []
    },
    {
      "cell_type": "code",
      "source": [
        "(1/n)*sum(gx)"
      ],
      "metadata": {
        "colab": {
          "base_uri": "https://localhost:8080/",
          "height": 34
        },
        "id": "8ahcyJ1MMWEe",
        "outputId": "acaf3dd9-cd5c-4b73-e73a-1b6081d9ebd5"
      },
      "execution_count": 3,
      "outputs": [
        {
          "output_type": "display_data",
          "data": {
            "text/html": [
              "0.3311858"
            ],
            "text/markdown": "0.3311858",
            "text/latex": "0.3311858",
            "text/plain": [
              "[1] 0.3311858"
            ]
          },
          "metadata": {}
        }
      ]
    },
    {
      "cell_type": "markdown",
      "source": [
        "**Ejemplo**\n",
        "\n",
        "Hallar\n",
        "\n",
        "$\\displaystyle\\int_{0}^{1}e^{-x}dx$"
      ],
      "metadata": {
        "id": "U0F73wsUguvN"
      }
    },
    {
      "cell_type": "code",
      "source": [
        "n=8\n",
        "set.seed(274)\n",
        "x=runif(n)\n",
        "x=round(x,4)\n",
        "x"
      ],
      "metadata": {
        "colab": {
          "base_uri": "https://localhost:8080/",
          "height": 34
        },
        "id": "xlUmTIErrU6m",
        "outputId": "b8a91cbc-9bac-4d08-d211-30c2278dd6fa"
      },
      "execution_count": 4,
      "outputs": [
        {
          "output_type": "display_data",
          "data": {
            "text/html": [
              "<style>\n",
              ".list-inline {list-style: none; margin:0; padding: 0}\n",
              ".list-inline>li {display: inline-block}\n",
              ".list-inline>li:not(:last-child)::after {content: \"\\00b7\"; padding: 0 .5ex}\n",
              "</style>\n",
              "<ol class=list-inline><li>0.6299</li><li>0.0367</li><li>0.406</li><li>0.864</li><li>0.428</li><li>0.7254</li><li>0.7183</li><li>0.6987</li></ol>\n"
            ],
            "text/markdown": "1. 0.6299\n2. 0.0367\n3. 0.406\n4. 0.864\n5. 0.428\n6. 0.7254\n7. 0.7183\n8. 0.6987\n\n\n",
            "text/latex": "\\begin{enumerate*}\n\\item 0.6299\n\\item 0.0367\n\\item 0.406\n\\item 0.864\n\\item 0.428\n\\item 0.7254\n\\item 0.7183\n\\item 0.6987\n\\end{enumerate*}\n",
            "text/plain": [
              "[1] 0.6299 0.0367 0.4060 0.8640 0.4280 0.7254 0.7183 0.6987"
            ]
          },
          "metadata": {}
        }
      ]
    },
    {
      "cell_type": "code",
      "source": [
        "gx=exp(-x)\n",
        "gx=round(gx,4)\n",
        "gx"
      ],
      "metadata": {
        "colab": {
          "base_uri": "https://localhost:8080/",
          "height": 34
        },
        "id": "YjU1UwfSrgyH",
        "outputId": "a8ca34eb-b7cd-4e03-cc0e-ed482646e67f"
      },
      "execution_count": 5,
      "outputs": [
        {
          "output_type": "display_data",
          "data": {
            "text/html": [
              "<style>\n",
              ".list-inline {list-style: none; margin:0; padding: 0}\n",
              ".list-inline>li {display: inline-block}\n",
              ".list-inline>li:not(:last-child)::after {content: \"\\00b7\"; padding: 0 .5ex}\n",
              "</style>\n",
              "<ol class=list-inline><li>0.5326</li><li>0.964</li><li>0.6663</li><li>0.4215</li><li>0.6518</li><li>0.4841</li><li>0.4876</li><li>0.4972</li></ol>\n"
            ],
            "text/markdown": "1. 0.5326\n2. 0.964\n3. 0.6663\n4. 0.4215\n5. 0.6518\n6. 0.4841\n7. 0.4876\n8. 0.4972\n\n\n",
            "text/latex": "\\begin{enumerate*}\n\\item 0.5326\n\\item 0.964\n\\item 0.6663\n\\item 0.4215\n\\item 0.6518\n\\item 0.4841\n\\item 0.4876\n\\item 0.4972\n\\end{enumerate*}\n",
            "text/plain": [
              "[1] 0.5326 0.9640 0.6663 0.4215 0.6518 0.4841 0.4876 0.4972"
            ]
          },
          "metadata": {}
        }
      ]
    },
    {
      "cell_type": "code",
      "source": [
        "(1/n)*sum(gx)"
      ],
      "metadata": {
        "colab": {
          "base_uri": "https://localhost:8080/",
          "height": 34
        },
        "id": "R9W6L2qkrg1F",
        "outputId": "1a93317f-ed66-4640-985d-68306b7c9072"
      },
      "execution_count": 6,
      "outputs": [
        {
          "output_type": "display_data",
          "data": {
            "text/html": [
              "0.5881375"
            ],
            "text/markdown": "0.5881375",
            "text/latex": "0.5881375",
            "text/plain": [
              "[1] 0.5881375"
            ]
          },
          "metadata": {}
        }
      ]
    },
    {
      "cell_type": "code",
      "source": [
        "n =8\n",
        "set.seed(274)\n",
        "x =runif(n)\n",
        "gx=exp(-x)\n",
        "Estimador =sum(gx)/n\n",
        "Estimador"
      ],
      "metadata": {
        "colab": {
          "base_uri": "https://localhost:8080/",
          "height": 34
        },
        "id": "ZOJpMoXDB1Ra",
        "outputId": "1f9c1b1b-eb19-45a7-d419-5c6017602dd7"
      },
      "execution_count": 7,
      "outputs": [
        {
          "output_type": "display_data",
          "data": {
            "text/html": [
              "0.588138101126812"
            ],
            "text/markdown": "0.588138101126812",
            "text/latex": "0.588138101126812",
            "text/plain": [
              "[1] 0.5881381"
            ]
          },
          "metadata": {}
        }
      ]
    },
    {
      "cell_type": "code",
      "source": [
        "n =10000\n",
        "x =runif(n)\n",
        "set.seed(274)\n",
        "gx=exp(-x)\n",
        "Estimador =mean(gx)\n",
        "Estimador"
      ],
      "metadata": {
        "colab": {
          "base_uri": "https://localhost:8080/",
          "height": 34
        },
        "id": "AcmjhHkGga_N",
        "outputId": "b7c5dd31-0427-4e9a-d533-f2c816a11ff3"
      },
      "execution_count": 8,
      "outputs": [
        {
          "output_type": "display_data",
          "data": {
            "text/html": [
              "0.631288922126601"
            ],
            "text/markdown": "0.631288922126601",
            "text/latex": "0.631288922126601",
            "text/plain": [
              "[1] 0.6312889"
            ]
          },
          "metadata": {}
        }
      ]
    },
    {
      "cell_type": "markdown",
      "source": [
        "Hallando su integral analiticamente por sustitucion o cambio de variable obtenemos\n",
        "\n",
        "$$\\displaystyle\\int_{0}^{1}e^{-x}dx=1-e^{-1}$$"
      ],
      "metadata": {
        "id": "czo-xMBjC8_H"
      }
    },
    {
      "cell_type": "code",
      "source": [
        "I=(1 - exp(-1))\n",
        "I"
      ],
      "metadata": {
        "colab": {
          "base_uri": "https://localhost:8080/",
          "height": 34
        },
        "id": "PE1USsJcC9XS",
        "outputId": "80bf65cd-d995-4332-b272-334787861e43"
      },
      "execution_count": 9,
      "outputs": [
        {
          "output_type": "display_data",
          "data": {
            "text/html": [
              "0.632120558828558"
            ],
            "text/markdown": "0.632120558828558",
            "text/latex": "0.632120558828558",
            "text/plain": [
              "[1] 0.6321206"
            ]
          },
          "metadata": {}
        }
      ]
    },
    {
      "cell_type": "markdown",
      "source": [
        "**Ejemplo**\n",
        "\n",
        "Hallar\n",
        "\n",
        "$\\displaystyle\\int_{0}^{1}xe^{x²}dx$"
      ],
      "metadata": {
        "id": "oeyA1mDosjUo"
      }
    },
    {
      "cell_type": "code",
      "source": [
        "n =1000000\n",
        "set.seed(274)\n",
        "x =runif(n)\n",
        "gx=x*exp(x^2)\n",
        "Estimador =mean(gx)\n",
        "Estimador"
      ],
      "metadata": {
        "colab": {
          "base_uri": "https://localhost:8080/",
          "height": 34
        },
        "id": "9kguPATKsiEx",
        "outputId": "3890f71e-b4e8-44f1-e449-671f7e73e582"
      },
      "execution_count": 11,
      "outputs": [
        {
          "output_type": "display_data",
          "data": {
            "text/html": [
              "0.859037038660306"
            ],
            "text/markdown": "0.859037038660306",
            "text/latex": "0.859037038660306",
            "text/plain": [
              "[1] 0.859037"
            ]
          },
          "metadata": {}
        }
      ]
    },
    {
      "cell_type": "markdown",
      "source": [
        "Hallando su integral analiticamente por sustitucion o cambio de variable obtenemos\n",
        "\n",
        "$$\\displaystyle\\int_{0}^{1}xe^{x^2}dx=0.5(e-1)=0.8591 $$"
      ],
      "metadata": {
        "id": "Xa8bigRktQD2"
      }
    },
    {
      "cell_type": "markdown",
      "source": [
        "**Ejemplo**: Hallar\n",
        "\n",
        "\n",
        "$$\\displaystyle\\int_{1}^{3}xe^{x^2}dx$$"
      ],
      "metadata": {
        "id": "H8vtPFu5zNn9"
      }
    },
    {
      "cell_type": "code",
      "source": [
        "n=1000000\n",
        "set.seed(143)\n",
        "ui=runif(n,0,1)"
      ],
      "metadata": {
        "id": "n7yjo3mgyOTS"
      },
      "execution_count": 12,
      "outputs": []
    },
    {
      "cell_type": "code",
      "source": [
        "a=1\n",
        "b=3\n",
        "xi=a+(b-a)*ui"
      ],
      "metadata": {
        "id": "5U02l_W7yObV"
      },
      "execution_count": 13,
      "outputs": []
    },
    {
      "cell_type": "code",
      "source": [
        "gxi=xi*exp(xi^2)"
      ],
      "metadata": {
        "id": "1ULRVusEyOfh"
      },
      "execution_count": 14,
      "outputs": []
    },
    {
      "cell_type": "code",
      "source": [
        "I=(b-a)*(1/n)*sum(gxi)\n",
        "I"
      ],
      "metadata": {
        "colab": {
          "base_uri": "https://localhost:8080/",
          "height": 34
        },
        "id": "IKSII5nJ0eOT",
        "outputId": "54c4804e-2408-45c8-9cc7-447d93f59614"
      },
      "execution_count": 15,
      "outputs": [
        {
          "output_type": "display_data",
          "data": {
            "text/html": [
              "4036.21317035408"
            ],
            "text/markdown": "4036.21317035408",
            "text/latex": "4036.21317035408",
            "text/plain": [
              "[1] 4036.213"
            ]
          },
          "metadata": {}
        }
      ]
    },
    {
      "cell_type": "code",
      "source": [
        "integrate(function(x) x*exp(x^2), lower = 1, upper = 3)"
      ],
      "metadata": {
        "colab": {
          "base_uri": "https://localhost:8080/",
          "height": 34
        },
        "id": "M0Ja42Hy5kZV",
        "outputId": "afa66fa9-0b8b-4f4d-bf08-66b7ab63b72f"
      },
      "execution_count": 16,
      "outputs": [
        {
          "output_type": "display_data",
          "data": {
            "text/plain": [
              "4050.183 with absolute error < 2e-06"
            ]
          },
          "metadata": {}
        }
      ]
    },
    {
      "cell_type": "markdown",
      "source": [
        "**Ejemplo**: Hallar\n",
        "\n",
        "\n",
        "$$\\displaystyle\\int_{1}^{3}\\frac{e^x}{1+e^x}dx$$"
      ],
      "metadata": {
        "id": "huZg_hlOXfWv"
      }
    },
    {
      "cell_type": "code",
      "source": [
        "n=100000\n",
        "set.seed(234)\n",
        "ui=runif(n,0,1)\n",
        "ui=round(ui,4)\n"
      ],
      "metadata": {
        "id": "SHUcHe3N0eQb"
      },
      "execution_count": 17,
      "outputs": []
    },
    {
      "cell_type": "code",
      "source": [
        "a=1\n",
        "b=3\n",
        "xi=a+(b-a)*ui\n"
      ],
      "metadata": {
        "id": "tPhOa6lFZDEc"
      },
      "execution_count": 18,
      "outputs": []
    },
    {
      "cell_type": "code",
      "source": [
        "gxi=exp(xi)/(1+exp(xi))\n",
        "gxi=round(gxi,4)\n"
      ],
      "metadata": {
        "id": "AaqhTb560eTa"
      },
      "execution_count": 19,
      "outputs": []
    },
    {
      "cell_type": "code",
      "source": [
        "I=((b-a)/n)*sum(gxi)\n",
        "I"
      ],
      "metadata": {
        "id": "0sRt5fV_0eXR",
        "colab": {
          "base_uri": "https://localhost:8080/",
          "height": 34
        },
        "outputId": "065acfa0-6e39-4eec-a9cb-837c2c06b236"
      },
      "execution_count": 20,
      "outputs": [
        {
          "output_type": "display_data",
          "data": {
            "text/html": [
              "1.735103794"
            ],
            "text/markdown": "1.735103794",
            "text/latex": "1.735103794",
            "text/plain": [
              "[1] 1.735104"
            ]
          },
          "metadata": {}
        }
      ]
    },
    {
      "cell_type": "markdown",
      "source": [
        "$$\\displaystyle\\int_{1}^{3}\\frac{e^x}{1+e^x}dx=1.73532566405552$$"
      ],
      "metadata": {
        "id": "691v2s3Pavdt"
      }
    },
    {
      "cell_type": "code",
      "source": [
        "I=log(1+(exp(1))^3)-log(1+(exp(1)))\n",
        "I"
      ],
      "metadata": {
        "colab": {
          "base_uri": "https://localhost:8080/",
          "height": 34
        },
        "id": "u9ZUuj1EYXi9",
        "outputId": "981b1b8b-d95d-47ea-b31e-e53e600274f6"
      },
      "execution_count": 21,
      "outputs": [
        {
          "output_type": "display_data",
          "data": {
            "text/html": [
              "1.73532566405552"
            ],
            "text/markdown": "1.73532566405552",
            "text/latex": "1.73532566405552",
            "text/plain": [
              "[1] 1.735326"
            ]
          },
          "metadata": {}
        }
      ]
    },
    {
      "cell_type": "code",
      "source": [
        "integrate(function(x) exp(x)/(1+exp(x)), lower = 1, upper = 3)"
      ],
      "metadata": {
        "id": "Ohel3gpxYXml",
        "colab": {
          "base_uri": "https://localhost:8080/",
          "height": 34
        },
        "outputId": "13b82f5e-b9ea-4679-c8d8-28fbf563e99a"
      },
      "execution_count": 22,
      "outputs": [
        {
          "output_type": "display_data",
          "data": {
            "text/plain": [
              "1.735326 with absolute error < 1.9e-14"
            ]
          },
          "metadata": {}
        }
      ]
    },
    {
      "cell_type": "markdown",
      "source": [
        "**Ejemplo**\n",
        "\n",
        "Hallar\n",
        "\n",
        "$\\displaystyle\\int_{2}^{4}e^{-x}dx$"
      ],
      "metadata": {
        "id": "9hpqZAGJg4cz"
      }
    },
    {
      "cell_type": "code",
      "source": [
        "n = 1000\n",
        "a=2\n",
        "b=4\n",
        "set.seed(274)\n",
        "u =runif(n)\n",
        "x=a+(b-a)*u\n",
        "gxi=exp(-x)\n",
        "Estimador=(b-a)*sum(gxi)/n\n",
        "Estimador"
      ],
      "metadata": {
        "colab": {
          "base_uri": "https://localhost:8080/",
          "height": 34
        },
        "id": "elJ6eJdmg9fP",
        "outputId": "e5a9ec21-c1ad-47ca-bc12-3facbb5e56d0"
      },
      "execution_count": 23,
      "outputs": [
        {
          "output_type": "display_data",
          "data": {
            "text/html": [
              "0.115708986759695"
            ],
            "text/markdown": "0.115708986759695",
            "text/latex": "0.115708986759695",
            "text/plain": [
              "[1] 0.115709"
            ]
          },
          "metadata": {}
        }
      ]
    },
    {
      "cell_type": "code",
      "source": [
        "n = 1000\n",
        "a=2\n",
        "b=4\n",
        "set.seed(274)\n",
        "u =runif(n)\n",
        "x=a+(b-a)*u\n",
        "gxi=exp(-x)\n",
        "Estimador=(b-a)*mean(gxi)\n",
        "Estimador"
      ],
      "metadata": {
        "colab": {
          "base_uri": "https://localhost:8080/",
          "height": 34
        },
        "id": "Ata_zy-z6_oM",
        "outputId": "a09210fc-1f3b-4878-affe-5bd7248d9f12"
      },
      "execution_count": 24,
      "outputs": [
        {
          "output_type": "display_data",
          "data": {
            "text/html": [
              "0.115708986759695"
            ],
            "text/markdown": "0.115708986759695",
            "text/latex": "0.115708986759695",
            "text/plain": [
              "[1] 0.115709"
            ]
          },
          "metadata": {}
        }
      ]
    },
    {
      "cell_type": "markdown",
      "source": [
        "Hallando su integral analiticamente por sustitucion o cambio de variable obtenemos\n",
        "\n",
        "$$\\displaystyle\\int_{2}^{4}e^{-x}dx=e^{-2}-e^{-4}$$"
      ],
      "metadata": {
        "id": "TEj7Fcc_Fpbz"
      }
    },
    {
      "cell_type": "code",
      "source": [
        "I=exp(-2) - exp(-4)\n",
        "I"
      ],
      "metadata": {
        "colab": {
          "base_uri": "https://localhost:8080/",
          "height": 34
        },
        "id": "qxcPvWqkFpxs",
        "outputId": "a5c2d2a1-86b3-407a-ab14-37e9bf3bfcbe"
      },
      "execution_count": 25,
      "outputs": [
        {
          "output_type": "display_data",
          "data": {
            "text/html": [
              "0.117019644347879"
            ],
            "text/markdown": "0.117019644347879",
            "text/latex": "0.117019644347879",
            "text/plain": [
              "[1] 0.1170196"
            ]
          },
          "metadata": {}
        }
      ]
    },
    {
      "cell_type": "markdown",
      "source": [
        "## **Cálculo de probabilidades de la distribución normal estandar**\n",
        "\n",
        "Si $X \\sim N(0,1)$ usando la regla empirica tenemos"
      ],
      "metadata": {
        "id": "TKilqsBbXYZ_"
      }
    },
    {
      "cell_type": "code",
      "source": [
        "x=seq(-4,4,0.1)\n",
        "y=dnorm(x,0,1)\n",
        "plot(x,y, type=\"l\", lwd=2,col=\"blue\")"
      ],
      "metadata": {
        "colab": {
          "base_uri": "https://localhost:8080/",
          "height": 437
        },
        "id": "qHBTLSFXX9mG",
        "outputId": "a5dd7a41-d58d-4ab6-90a9-7789496f9d2e"
      },
      "execution_count": 26,
      "outputs": [
        {
          "output_type": "display_data",
          "data": {
            "text/plain": [
              "plot without title"
            ],
            "image/png": "[encoded data removed]"
          },
          "metadata": {
            "image/png": {
              "width": 420,
              "height": 420
            }
          }
        }
      ]
    },
    {
      "cell_type": "markdown",
      "source": [
        "$$\\int_{-\\infty}^{\\infty}f(x)dx=1$$\n",
        "\n",
        "$$I=\\int_{-4}^{4}f(x)dx \\approx 1$$"
      ],
      "metadata": {
        "id": "q-pYZEsPZE62"
      }
    },
    {
      "cell_type": "code",
      "source": [
        "I=pnorm(4,0,1)-pnorm(-4,0,1)\n",
        "I"
      ],
      "metadata": {
        "colab": {
          "base_uri": "https://localhost:8080/",
          "height": 34
        },
        "id": "FyOIF2fiZC8M",
        "outputId": "c075935a-256a-475e-c96b-2155b745dd06"
      },
      "execution_count": 27,
      "outputs": [
        {
          "output_type": "display_data",
          "data": {
            "text/html": [
              "0.999936657516334"
            ],
            "text/markdown": "0.999936657516334",
            "text/latex": "0.999936657516334",
            "text/plain": [
              "[1] 0.9999367"
            ]
          },
          "metadata": {}
        }
      ]
    },
    {
      "cell_type": "markdown",
      "source": [
        "---"
      ],
      "metadata": {
        "id": "QZSsReYXager"
      }
    },
    {
      "cell_type": "markdown",
      "source": [
        "**Ejemplo:** Sea $X \\sim N(0,1)$ estimar $P(X<1.23)$"
      ],
      "metadata": {
        "id": "5lCXLAduano4"
      }
    },
    {
      "cell_type": "code",
      "source": [
        "n = 10000\n",
        "a=-4\n",
        "b=1.23\n",
        "set.seed(274)\n",
        "x =runif(n,a,b)\n",
        "gx=dnorm(x,0,1)\n",
        "I=(b-a)*mean(gx)\n",
        "I"
      ],
      "metadata": {
        "colab": {
          "base_uri": "https://localhost:8080/",
          "height": 34
        },
        "id": "h79y7MfydNfX",
        "outputId": "959a98ba-4355-4c32-c1eb-33233e21f94a"
      },
      "execution_count": 28,
      "outputs": [
        {
          "output_type": "display_data",
          "data": {
            "text/html": [
              "0.896183521664687"
            ],
            "text/markdown": "0.896183521664687",
            "text/latex": "0.896183521664687",
            "text/plain": [
              "[1] 0.8961835"
            ]
          },
          "metadata": {}
        }
      ]
    },
    {
      "cell_type": "markdown",
      "source": [
        "Usando la distribución normal estandar"
      ],
      "metadata": {
        "id": "-ut5ylrrdyU8"
      }
    },
    {
      "cell_type": "code",
      "source": [
        "pnorm(1.23,0,1)"
      ],
      "metadata": {
        "colab": {
          "base_uri": "https://localhost:8080/",
          "height": 34
        },
        "id": "oQ_Uij7cdz7d",
        "outputId": "40b587fb-cb41-409c-b44c-636d18741ad8"
      },
      "execution_count": 29,
      "outputs": [
        {
          "output_type": "display_data",
          "data": {
            "text/html": [
              "0.890651447574308"
            ],
            "text/markdown": "0.890651447574308",
            "text/latex": "0.890651447574308",
            "text/plain": [
              "[1] 0.8906514"
            ]
          },
          "metadata": {}
        }
      ]
    },
    {
      "cell_type": "markdown",
      "source": [
        "**Usando la generacion de muestras aleatorias**"
      ],
      "metadata": {
        "id": "MGgQNd2HeHmv"
      }
    },
    {
      "cell_type": "code",
      "source": [
        "n = 10000\n",
        "x=rnorm(n,0,1)\n",
        "hist(x,prob=TRUE)"
      ],
      "metadata": {
        "colab": {
          "base_uri": "https://localhost:8080/",
          "height": 437
        },
        "id": "S8yDnh6beOFQ",
        "outputId": "0076d4ee-a022-438a-806e-bf9c7f54353e"
      },
      "execution_count": 30,
      "outputs": [
        {
          "output_type": "display_data",
          "data": {
            "text/plain": [
              "Plot with title “Histogram of x”"
            ],
            "image/png": "[encoded data removed]"
          },
          "metadata": {
            "image/png": {
              "width": 420,
              "height": 420
            }
          }
        }
      ]
    },
    {
      "cell_type": "code",
      "source": [
        "x=c(-8,2,5,-3,1,6,7)\n",
        "x<3"
      ],
      "metadata": {
        "colab": {
          "base_uri": "https://localhost:8080/",
          "height": 34
        },
        "id": "nTdkMUXxr2Kd",
        "outputId": "3ba07bc4-c741-4390-8577-ecd75377e3f0"
      },
      "execution_count": 31,
      "outputs": [
        {
          "output_type": "display_data",
          "data": {
            "text/html": [
              "<style>\n",
              ".list-inline {list-style: none; margin:0; padding: 0}\n",
              ".list-inline>li {display: inline-block}\n",
              ".list-inline>li:not(:last-child)::after {content: \"\\00b7\"; padding: 0 .5ex}\n",
              "</style>\n",
              "<ol class=list-inline><li>TRUE</li><li>TRUE</li><li>FALSE</li><li>TRUE</li><li>TRUE</li><li>FALSE</li><li>FALSE</li></ol>\n"
            ],
            "text/markdown": "1. TRUE\n2. TRUE\n3. FALSE\n4. TRUE\n5. TRUE\n6. FALSE\n7. FALSE\n\n\n",
            "text/latex": "\\begin{enumerate*}\n\\item TRUE\n\\item TRUE\n\\item FALSE\n\\item TRUE\n\\item TRUE\n\\item FALSE\n\\item FALSE\n\\end{enumerate*}\n",
            "text/plain": [
              "[1]  TRUE  TRUE FALSE  TRUE  TRUE FALSE FALSE"
            ]
          },
          "metadata": {}
        }
      ]
    },
    {
      "cell_type": "code",
      "source": [
        "mean(x<3)"
      ],
      "metadata": {
        "colab": {
          "base_uri": "https://localhost:8080/",
          "height": 34
        },
        "id": "efiN4cuusW2B",
        "outputId": "327a068d-0b73-48b3-afe1-3c932f43e0ad"
      },
      "execution_count": 32,
      "outputs": [
        {
          "output_type": "display_data",
          "data": {
            "text/html": [
              "0.571428571428571"
            ],
            "text/markdown": "0.571428571428571",
            "text/latex": "0.571428571428571",
            "text/plain": [
              "[1] 0.5714286"
            ]
          },
          "metadata": {}
        }
      ]
    },
    {
      "cell_type": "code",
      "source": [
        "4/7"
      ],
      "metadata": {
        "colab": {
          "base_uri": "https://localhost:8080/",
          "height": 34
        },
        "id": "S2pCWQ7csno5",
        "outputId": "10476077-d780-49c2-f21a-fc5b37dab84f"
      },
      "execution_count": 33,
      "outputs": [
        {
          "output_type": "display_data",
          "data": {
            "text/html": [
              "0.571428571428571"
            ],
            "text/markdown": "0.571428571428571",
            "text/latex": "0.571428571428571",
            "text/plain": [
              "[1] 0.5714286"
            ]
          },
          "metadata": {}
        }
      ]
    },
    {
      "cell_type": "markdown",
      "source": [
        "Para calcular $P(a<Z<b)$ usando el método de montecarlo, seguimos los siguientes pasos\n",
        "\n",
        "1. Generar muestras aleatorias  de una distribución normal estándar $z_i, i=1,...n$\n",
        "\n",
        "$$rnorm(n,0,1)$$\n",
        "\n",
        "2. Contar las muestras que estan en el intervalo\n",
        "$[a,b]$ definir la variable indicadora $I_i$\n",
        "\n",
        " * $I_i=1$ si $z_i \\in [a,b]$\n",
        " * $I_i=0$ si $z_i \\notin [a,b]$\n",
        "\n",
        "3. Calcular la probabilidad estimada\n",
        "\n",
        "$$P(a<Z<b) \\approx \\frac{\\displaystyle \\sum_{i=1}^n I_i}{n}$$\n"
      ],
      "metadata": {
        "id": "Asl5dQF0tCnl"
      }
    },
    {
      "cell_type": "markdown",
      "source": [
        "**Ejemplo:** Sea $X \\sim N(0,1)$ estimar $P(X<1.23)$"
      ],
      "metadata": {
        "id": "GWj4JM3Ee3cF"
      }
    },
    {
      "cell_type": "code",
      "source": [
        "n=100000\n",
        "x=rnorm(n,0,1)\n",
        "I=mean(x<1.23)\n",
        "I"
      ],
      "metadata": {
        "colab": {
          "base_uri": "https://localhost:8080/",
          "height": 34
        },
        "id": "Ghqk9ScLe3vx",
        "outputId": "3a3dfa78-9022-43ac-82d5-ba203bef0d15"
      },
      "execution_count": 34,
      "outputs": [
        {
          "output_type": "display_data",
          "data": {
            "text/html": [
              "0.88938"
            ],
            "text/markdown": "0.88938",
            "text/latex": "0.88938",
            "text/plain": [
              "[1] 0.88938"
            ]
          },
          "metadata": {}
        }
      ]
    },
    {
      "cell_type": "markdown",
      "source": [
        "**Ejemplo:** Sea $X \\sim N(0,1)$ estimar $P(X<-1.83)$"
      ],
      "metadata": {
        "id": "LLHqrRU8hFcw"
      }
    },
    {
      "cell_type": "code",
      "source": [
        "n=100000\n",
        "x=rnorm(n,0,1)\n",
        "I=mean(x < -1.83)\n",
        "I"
      ],
      "metadata": {
        "colab": {
          "base_uri": "https://localhost:8080/",
          "height": 34
        },
        "id": "S-uKqmO5hGEK",
        "outputId": "9d1027ad-a067-4906-b4a3-c8cb634d62cb"
      },
      "execution_count": 35,
      "outputs": [
        {
          "output_type": "display_data",
          "data": {
            "text/html": [
              "0.03351"
            ],
            "text/markdown": "0.03351",
            "text/latex": "0.03351",
            "text/plain": [
              "[1] 0.03351"
            ]
          },
          "metadata": {}
        }
      ]
    },
    {
      "cell_type": "code",
      "source": [
        "pnorm(-1.83,0,1)"
      ],
      "metadata": {
        "colab": {
          "base_uri": "https://localhost:8080/",
          "height": 34
        },
        "id": "sOS2Q1c0hlnz",
        "outputId": "ae449b54-8850-432d-b9b8-44e317edd417"
      },
      "execution_count": 36,
      "outputs": [
        {
          "output_type": "display_data",
          "data": {
            "text/html": [
              "0.0336249694196283"
            ],
            "text/markdown": "0.0336249694196283",
            "text/latex": "0.0336249694196283",
            "text/plain": [
              "[1] 0.03362497"
            ]
          },
          "metadata": {}
        }
      ]
    },
    {
      "cell_type": "markdown",
      "source": [
        "**Ejemplo:** Sea $X \\sim N(0,1)$ estimar $P(X>2)$"
      ],
      "metadata": {
        "id": "E14i6X4aSr7C"
      }
    },
    {
      "cell_type": "code",
      "source": [
        "n=100000\n",
        "x=rnorm(n,0,1)\n",
        "I=mean(x>2)\n",
        "I"
      ],
      "metadata": {
        "colab": {
          "base_uri": "https://localhost:8080/",
          "height": 34
        },
        "id": "NM6kI1Z9SsaU",
        "outputId": "a36dcaeb-0c01-4143-8778-710ec3e6cc0d"
      },
      "execution_count": 37,
      "outputs": [
        {
          "output_type": "display_data",
          "data": {
            "text/html": [
              "0.02353"
            ],
            "text/markdown": "0.02353",
            "text/latex": "0.02353",
            "text/plain": [
              "[1] 0.02353"
            ]
          },
          "metadata": {}
        }
      ]
    },
    {
      "cell_type": "markdown",
      "source": [
        "Usando la distribución normal estandar"
      ],
      "metadata": {
        "id": "VBSM5PTYT6zi"
      }
    },
    {
      "cell_type": "code",
      "source": [
        "1-pnorm(2,0,1)"
      ],
      "metadata": {
        "colab": {
          "base_uri": "https://localhost:8080/",
          "height": 34
        },
        "id": "I-jY3kHgT6cV",
        "outputId": "4b2cca08-58c5-467d-8512-9957e6d8fb5c"
      },
      "execution_count": 38,
      "outputs": [
        {
          "output_type": "display_data",
          "data": {
            "text/html": [
              "0.0227501319481792"
            ],
            "text/markdown": "0.0227501319481792",
            "text/latex": "0.0227501319481792",
            "text/plain": [
              "[1] 0.02275013"
            ]
          },
          "metadata": {}
        }
      ]
    },
    {
      "cell_type": "markdown",
      "source": [
        "# **Montecarlo para inferencia**"
      ],
      "metadata": {
        "id": "mIpFhqfzT_LT"
      }
    },
    {
      "cell_type": "markdown",
      "source": [
        "Los métodos de Monte Carlo se pueden aplicar para estimar parámetros de la distribución de muestreo de una estadística, probabilidades o funciones de una distribución usando grandes cantidades de simulaciones aleatorias\n",
        "\n",
        "Supongamos que $X_1,. . ., X_n$ es una muestra aleatoria de la distribución de $X$. Un\n",
        "estimador $\\hat{\\theta}$ para un parámetro $\\theta$ es una función $n$ variables\n",
        "$\\hat{\\theta} = \\hat{\\theta} (X_1,..., X_n)$"
      ],
      "metadata": {
        "id": "DbiFLYTHUqxO"
      }
    },
    {
      "cell_type": "markdown",
      "source": [
        "Aproximación de la media $\\mu$ y varianza $\\sigma^2$ de una distribución normal"
      ],
      "metadata": {
        "id": "VUhMA5KVEI9H"
      }
    },
    {
      "cell_type": "markdown",
      "source": [
        "## **Aproximación de la media y la varianza de una distribución normal**"
      ],
      "metadata": {
        "id": "aXi_WmBnEjst"
      }
    },
    {
      "cell_type": "markdown",
      "source": [
        "**Ejemplo:** Estimar $\\mu$ y $\\sigma ^2$ para la variable aleatoria $X\\sim N(5,9)$"
      ],
      "metadata": {
        "id": "_Nv0Y_bXE9vj"
      }
    },
    {
      "cell_type": "code",
      "source": [
        "set.seed(25)\n",
        "n=100000\n",
        "x=rnorm(n,5,3)"
      ],
      "metadata": {
        "id": "dtM5y1aBEJk4"
      },
      "execution_count": 39,
      "outputs": []
    },
    {
      "cell_type": "code",
      "source": [
        "Ex=mean(x)\n",
        "cat(\"Media estimada\",Ex)"
      ],
      "metadata": {
        "colab": {
          "base_uri": "https://localhost:8080/"
        },
        "id": "um2DGkBOG04O",
        "outputId": "3d7fa7d8-5ebf-49bf-9363-d457b643eded"
      },
      "execution_count": 40,
      "outputs": [
        {
          "output_type": "stream",
          "name": "stdout",
          "text": [
            "Media estimada 5.00273"
          ]
        }
      ]
    },
    {
      "cell_type": "code",
      "source": [
        "Vx=var(x)\n",
        "cat(\"Varianza estimada\",Vx)"
      ],
      "metadata": {
        "colab": {
          "base_uri": "https://localhost:8080/"
        },
        "id": "C-jnNo9CG1iP",
        "outputId": "d3da7d79-6129-4a4e-eece-17b7290573fa"
      },
      "execution_count": 41,
      "outputs": [
        {
          "output_type": "stream",
          "name": "stdout",
          "text": [
            "Varianza estimada 9.043212"
          ]
        }
      ]
    },
    {
      "cell_type": "code",
      "source": [
        "hist(x,prob=TRUE,col=\"yellow\",ylim=c(0,0.15))\n",
        "curve(dnorm(x,5,3),add=TRUE,lwd=3,col=\"blue\")"
      ],
      "metadata": {
        "colab": {
          "base_uri": "https://localhost:8080/",
          "height": 437
        },
        "id": "x7lpWGRJHEco",
        "outputId": "003790ee-fe48-4369-f1c5-edd83eb66fa6"
      },
      "execution_count": 42,
      "outputs": [
        {
          "output_type": "display_data",
          "data": {
            "text/plain": [
              "Plot with title “Histogram of x”"
            ],
            "image/png": "[encoded data removed]"
          },
          "metadata": {
            "image/png": {
              "width": 420,
              "height": 420
            }
          }
        }
      ]
    },
    {
      "cell_type": "markdown",
      "source": [
        "## **Aproximación del parametro $p$ de la distribución Binomial**"
      ],
      "metadata": {
        "id": "M4SBTdA_pIPX"
      }
    },
    {
      "cell_type": "markdown",
      "source": [
        "**Ejemplo:** Estimar $p$ en $X\\sim Bin(n,p)$  con $n=10$ y $p=0.3$"
      ],
      "metadata": {
        "id": "0Vy4RXtmlotR"
      }
    },
    {
      "cell_type": "code",
      "source": [
        "set.seed(23)\n",
        "N = 100\n",
        "n = 10\n",
        "p= 0.3\n",
        "muestra=rbinom(N,n,p)\n",
        "# La estimación de p es la media de éxitos / n)\n",
        "p_est=mean(muestra)/n\n",
        "cat(\"Proporción estimada:\", p_est)\n",
        "p"
      ],
      "metadata": {
        "colab": {
          "base_uri": "https://localhost:8080/",
          "height": 52
        },
        "id": "StkYW-hOlo-9",
        "outputId": "bbc0ac92-6dfd-477d-a1c0-2d763b17304b"
      },
      "execution_count": 43,
      "outputs": [
        {
          "output_type": "stream",
          "name": "stdout",
          "text": [
            "Proporción estimada: 0.313"
          ]
        },
        {
          "output_type": "display_data",
          "data": {
            "text/html": [
              "0.3"
            ],
            "text/markdown": "0.3",
            "text/latex": "0.3",
            "text/plain": [
              "[1] 0.3"
            ]
          },
          "metadata": {}
        }
      ]
    },
    {
      "cell_type": "code",
      "source": [
        "x=seq(0,n,1)\n",
        "y=dbinom(x,n,p)\n",
        "plot(x,y,type='o',col=\"blue\")\n",
        "y1=dbinom(x,n,p_est)\n",
        "lines(x,y1,type='b',col=\"red\")\n",
        "legend(x = \"topright\", legend = c(\"Binomial \", \"Binomial_estimada\"), fill = c(\"blue\", \"red\"),\n",
        "       title = \"Aproximación\")"
      ],
      "metadata": {
        "colab": {
          "base_uri": "https://localhost:8080/",
          "height": 437
        },
        "id": "Wvp5Lb6dnZeZ",
        "outputId": "eb1114cc-8111-4fd0-94b1-ca68281676cf"
      },
      "execution_count": 44,
      "outputs": [
        {
          "output_type": "display_data",
          "data": {
            "text/plain": [
              "plot without title"
            ],
            "image/png": "[encoded data removed]"
          },
          "metadata": {
            "image/png": {
              "width": 420,
              "height": 420
            }
          }
        }
      ]
    },
    {
      "cell_type": "markdown",
      "source": [
        "## **Estimacion del error estandar de la media**\n",
        "\n",
        "\n",
        "El error estandar de la media muestral $\\overline X$ de tamaño $n$ esta dado por:\n",
        "\n",
        "\n",
        " $$\\sigma_{\\overline X}=\\frac{\\sigma}{\\sqrt{n}}$$, donde\n",
        "\n",
        "\\begin{equation}\n",
        "\\hat {\\sigma_{\\overline X}}=\\sqrt{\\frac{1}{N}\\sum\\limits_{i=1}^N(\\overline X_i-\\mu)^2}\n",
        "\\end{equation}"
      ],
      "metadata": {
        "id": "c0KV4cPGVUfb"
      }
    },
    {
      "cell_type": "markdown",
      "source": [
        "**Ejemplo:** Estimar $\\sigma_{\\overline X}$ para la media de la distribucion normal  $X\\sim N(\\mu,\\sigma^2)$  con $\\mu=5$ y $\\sigma=2$, on tamaño de muestra $n=30$"
      ],
      "metadata": {
        "id": "urHsQmJNrGVe"
      }
    },
    {
      "cell_type": "code",
      "source": [
        "set.seed(123)\n",
        "mu=5          # Media teorica\n",
        "sigma=2       # Desviación estándar teorica\n",
        "n=30          # Tamaño de cada muestra\n",
        "N=10000       # Número de muestras a generar"
      ],
      "metadata": {
        "id": "-esMO4txrx5o"
      },
      "execution_count": 45,
      "outputs": []
    },
    {
      "cell_type": "code",
      "source": [
        "M=matrix(0,1,N)\n",
        "#M"
      ],
      "metadata": {
        "id": "VyLugiMTy-Wv"
      },
      "execution_count": 46,
      "outputs": []
    },
    {
      "cell_type": "code",
      "source": [
        "M=matrix(0,1,N)\n",
        "for(i in 1:N){\n",
        "muestra=rnorm(n,mu,sigma)\n",
        "#print(muestra)\n",
        "M[i]=mean(muestra)\n",
        "#print(M[i])\n",
        "}"
      ],
      "metadata": {
        "id": "v_Eumx_jvL_c"
      },
      "execution_count": 47,
      "outputs": []
    },
    {
      "cell_type": "markdown",
      "source": [
        "Error muestral estimado $\\hat {\\sigma_{\\overline X}}$"
      ],
      "metadata": {
        "id": "yAmac_OZ21CH"
      }
    },
    {
      "cell_type": "code",
      "source": [
        "S_est=sd(M)\n",
        "S_est"
      ],
      "metadata": {
        "colab": {
          "base_uri": "https://localhost:8080/",
          "height": 34
        },
        "id": "0aYEdQySySWT",
        "outputId": "66997b0e-f2d5-4971-e506-673ad80eddc1"
      },
      "execution_count": 48,
      "outputs": [
        {
          "output_type": "display_data",
          "data": {
            "text/html": [
              "0.361364079573018"
            ],
            "text/markdown": "0.361364079573018",
            "text/latex": "0.361364079573018",
            "text/plain": [
              "[1] 0.3613641"
            ]
          },
          "metadata": {}
        }
      ]
    },
    {
      "cell_type": "markdown",
      "source": [
        "Error muestral estimado $\\sigma_{\\overline X}$"
      ],
      "metadata": {
        "id": "3Bqwg6MB3K-g"
      }
    },
    {
      "cell_type": "code",
      "source": [
        "Sx=sigma/sqrt(n)\n",
        "Sx"
      ],
      "metadata": {
        "colab": {
          "base_uri": "https://localhost:8080/",
          "height": 34
        },
        "id": "V6YJL-yS0ZsE",
        "outputId": "1333ce5b-2ac0-42a3-8bc5-1c20405b7a34"
      },
      "execution_count": 49,
      "outputs": [
        {
          "output_type": "display_data",
          "data": {
            "text/html": [
              "0.365148371670111"
            ],
            "text/markdown": "0.365148371670111",
            "text/latex": "0.365148371670111",
            "text/plain": [
              "[1] 0.3651484"
            ]
          },
          "metadata": {}
        }
      ]
    },
    {
      "cell_type": "markdown",
      "source": [
        "**Usando el comando $replicate$**"
      ],
      "metadata": {
        "id": "lZeIURi-3T9L"
      }
    },
    {
      "cell_type": "code",
      "source": [
        "set.seed(123)\n",
        "mu=5          # Media teorica\n",
        "sigma=2       # Desviación estándar teorica\n",
        "n=30          # Tamaño de cada muestra\n",
        "N=10000       # Número de muestras a generar"
      ],
      "metadata": {
        "id": "RiUq6Y1g2j2f"
      },
      "execution_count": 50,
      "outputs": []
    },
    {
      "cell_type": "code",
      "source": [
        "# Matriz para almacenar las medias de cada muestra\n",
        "Mm =replicate(N,{muestra=rnorm(n,mu,sigma)\n",
        "mean(muestra)\n",
        "})"
      ],
      "metadata": {
        "id": "RgGBnScqr90g"
      },
      "execution_count": 51,
      "outputs": []
    },
    {
      "cell_type": "code",
      "source": [
        "# Error estandar estimado (desviación estándar de las medias muestrales)\n",
        "S_estimado = sd(Mm)\n",
        "S_estimado"
      ],
      "metadata": {
        "colab": {
          "base_uri": "https://localhost:8080/",
          "height": 34
        },
        "id": "ZbyFEf36sjkn",
        "outputId": "2a15f6af-c8cd-4808-bc2d-e4801c5141d8"
      },
      "execution_count": 52,
      "outputs": [
        {
          "output_type": "display_data",
          "data": {
            "text/html": [
              "0.361729043892168"
            ],
            "text/markdown": "0.361729043892168",
            "text/latex": "0.361729043892168",
            "text/plain": [
              "[1] 0.361729"
            ]
          },
          "metadata": {}
        }
      ]
    },
    {
      "cell_type": "code",
      "source": [
        "Sx = sigma / sqrt(n)\n",
        "Sx"
      ],
      "metadata": {
        "colab": {
          "base_uri": "https://localhost:8080/",
          "height": 34
        },
        "id": "lhJnwgyz4Id_",
        "outputId": "f1007eae-fccb-4180-d08a-df71b2897542"
      },
      "execution_count": 53,
      "outputs": [
        {
          "output_type": "display_data",
          "data": {
            "text/html": [
              "0.365148371670111"
            ],
            "text/markdown": "0.365148371670111",
            "text/latex": "0.365148371670111",
            "text/plain": [
              "[1] 0.3651484"
            ]
          },
          "metadata": {}
        }
      ]
    },
    {
      "cell_type": "markdown",
      "source": [
        "---"
      ],
      "metadata": {
        "id": "Ujmhdz4qmkwE"
      }
    },
    {
      "cell_type": "markdown",
      "source": [
        "## **Trabajo encargado**"
      ],
      "metadata": {
        "id": "vIQWtU0omlOY"
      }
    },
    {
      "cell_type": "markdown",
      "source": [
        "1. Usando el metodo de Montecralo. Estimar $\\mu$ y $\\sigma ^2$ para la variable aleatoria $X\\sim N(5,9)$\n"
      ],
      "metadata": {
        "id": "izVCvr_smrcD"
      }
    },
    {
      "cell_type": "code",
      "source": [
        "set.seed(25)\n",
        "n=100000\n",
        "x=rnorm(n,5,3)"
      ],
      "metadata": {
        "id": "jbeMQ_JXlhcy"
      },
      "execution_count": 54,
      "outputs": []
    },
    {
      "cell_type": "code",
      "source": [
        "Ex=mean(x)\n",
        "cat(\"Media estimada\",Ex)"
      ],
      "metadata": {
        "colab": {
          "base_uri": "https://localhost:8080/"
        },
        "id": "zkMWa39fl4U_",
        "outputId": "603da441-71bb-4283-f6cf-c14ca81b4646"
      },
      "execution_count": 55,
      "outputs": [
        {
          "output_type": "stream",
          "name": "stdout",
          "text": [
            "Media estimada 5.00273"
          ]
        }
      ]
    },
    {
      "cell_type": "code",
      "source": [
        "Vx=var(x)\n",
        "cat(\"Varianza estimada\",Vx)"
      ],
      "metadata": {
        "colab": {
          "base_uri": "https://localhost:8080/"
        },
        "id": "lbhHFYHEl65P",
        "outputId": "c5dab717-c2e2-4040-e273-57bc5f7c47fb"
      },
      "execution_count": 56,
      "outputs": [
        {
          "output_type": "stream",
          "name": "stdout",
          "text": [
            "Varianza estimada 9.043212"
          ]
        }
      ]
    },
    {
      "cell_type": "code",
      "source": [
        "hist(x,prob=TRUE,col=\"yellow\",ylim=c(0,0.15))\n",
        "curve(dnorm(x,5,3),add=TRUE,lwd=3,col=\"blue\")"
      ],
      "metadata": {
        "colab": {
          "base_uri": "https://localhost:8080/",
          "height": 437
        },
        "id": "OD8ClNH2l9uR",
        "outputId": "052e9ccc-9aaa-4197-bda4-5e8990048d0e"
      },
      "execution_count": 57,
      "outputs": [
        {
          "output_type": "display_data",
          "data": {
            "text/plain": [
              "Plot with title “Histogram of x”"
            ],
            "image/png": "[encoded data removed]"
          },
          "metadata": {
            "image/png": {
              "width": 420,
              "height": 420
            }
          }
        }
      ]
    },
    {
      "cell_type": "markdown",
      "source": [
        "2. Estimar $\\sigma_{\\overline X}$ para la media de la distribucion normal  $X\\sim N(\\mu,\\sigma^2)$  con $\\mu=75$ y $\\sigma=1.2$, con tamaño de muestra $n=55$"
      ],
      "metadata": {
        "id": "qUwiBeOGlbTT"
      }
    },
    {
      "cell_type": "code",
      "source": [
        "set.seed(123)\n",
        "mu=75          # Media teorica\n",
        "sigma=1.2       # Desviación estándar teorica\n",
        "n=55          # Tamaño de cada muestra\n",
        "N=10000       # Número de muestras a generar"
      ],
      "metadata": {
        "id": "2xpKehaklu0R"
      },
      "execution_count": 58,
      "outputs": []
    },
    {
      "cell_type": "code",
      "source": [
        "M=matrix(0,1,N)\n",
        "M"
      ],
      "metadata": {
        "colab": {
          "base_uri": "https://localhost:8080/",
          "height": 66
        },
        "id": "nS7TTVO1mOuG",
        "outputId": "0d337aa0-f5de-45fb-ad5e-4c75c0e84fb7"
      },
      "execution_count": 59,
      "outputs": [
        {
          "output_type": "display_data",
          "data": {
            "text/html": [
              "<table class=\"dataframe\">\n",
              "<caption>A matrix: 1 × 10000 of type dbl</caption>\n",
              "<tbody>\n",
              "\t<tr><td>0</td><td>0</td><td>0</td><td>0</td><td>0</td><td>0</td><td>0</td><td>0</td><td>0</td><td>0</td><td>⋯</td><td>0</td><td>0</td><td>0</td><td>0</td><td>0</td><td>0</td><td>0</td><td>0</td><td>0</td><td>0</td></tr>\n",
              "</tbody>\n",
              "</table>\n"
            ],
            "text/markdown": "\nA matrix: 1 × 10000 of type dbl\n\n| 0 | 0 | 0 | 0 | 0 | 0 | 0 | 0 | 0 | 0 | ⋯ | 0 | 0 | 0 | 0 | 0 | 0 | 0 | 0 | 0 | 0 |\n\n",
            "text/latex": "A matrix: 1 × 10000 of type dbl\n\\begin{tabular}{lllllllllllllllllllll}\n\t 0 & 0 & 0 & 0 & 0 & 0 & 0 & 0 & 0 & 0 & ⋯ & 0 & 0 & 0 & 0 & 0 & 0 & 0 & 0 & 0 & 0\\\\\n\\end{tabular}\n",
            "text/plain": [
              "     [,1] [,2] [,3] [,4] [,5] [,6] [,7] [,8] [,9] [,10] [,11] [,12] [,13] [,14]\n",
              "[1,] 0    0    0    0    0    0    0    0    0    0     ⋯     0     0     0    \n",
              "     [,15] [,16] [,17] [,18] [,19] [,20] [,21]\n",
              "[1,] 0     0     0     0     0     0     0    "
            ]
          },
          "metadata": {}
        }
      ]
    },
    {
      "cell_type": "code",
      "source": [
        "M=matrix(0,1,N)\n",
        "for(i in 1:N){\n",
        "  muestra=rnorm(n,mu,sigma)\n",
        "  #print(muestra)\n",
        "  M[i]=mean(muestra)\n",
        "  #print(M[i])\n",
        "}"
      ],
      "metadata": {
        "id": "fhNHRPLCmSjA"
      },
      "execution_count": 61,
      "outputs": []
    },
    {
      "cell_type": "markdown",
      "source": [
        "Error muestral estimado $\\hat {\\sigma_{\\overline X}}$"
      ],
      "metadata": {
        "id": "KdjdAUNgma4F"
      }
    },
    {
      "cell_type": "code",
      "source": [
        "S_est=sd(M)\n",
        "S_est"
      ],
      "metadata": {
        "colab": {
          "base_uri": "https://localhost:8080/",
          "height": 34
        },
        "id": "HBNze2jmmcsZ",
        "outputId": "fae6b694-7b1b-4eb8-a293-5d223458065e"
      },
      "execution_count": 62,
      "outputs": [
        {
          "output_type": "display_data",
          "data": {
            "text/html": [
              "0.161525295497373"
            ],
            "text/markdown": "0.161525295497373",
            "text/latex": "0.161525295497373",
            "text/plain": [
              "[1] 0.1615253"
            ]
          },
          "metadata": {}
        }
      ]
    },
    {
      "cell_type": "markdown",
      "source": [
        "Error muestral estimado $\\sigma_{\\overline X}$"
      ],
      "metadata": {
        "id": "bEdkgk-qmiV3"
      }
    },
    {
      "cell_type": "code",
      "source": [
        "Sx=sigma/sqrt(n)\n",
        "Sx"
      ],
      "metadata": {
        "colab": {
          "base_uri": "https://localhost:8080/",
          "height": 34
        },
        "id": "3r8Z3IJomey_",
        "outputId": "418a9210-8fdc-44a4-f75d-fa98a8d84eca"
      },
      "execution_count": 63,
      "outputs": [
        {
          "output_type": "display_data",
          "data": {
            "text/html": [
              "0.161807966991178"
            ],
            "text/markdown": "0.161807966991178",
            "text/latex": "0.161807966991178",
            "text/plain": [
              "[1] 0.161808"
            ]
          },
          "metadata": {}
        }
      ]
    },
    {
      "cell_type": "markdown",
      "source": [
        "3. Un hospital quiere estimar el tiempo promedio de espera (en minutos) en urgencias. Registra el tiempo de 100 pacientes cada día durante 200 días y calcula el error estandar muestral para evaluar la variabilidad."
      ],
      "metadata": {
        "id": "BpUjRhQYld3x"
      }
    },
    {
      "cell_type": "code",
      "source": [
        "set.seed(456)\n",
        "# Simulamos los datos\n",
        "num_dias = 200\n",
        "pacientes_por_dia = 100"
      ],
      "metadata": {
        "id": "MRo4g4gMnXy5"
      },
      "execution_count": 67,
      "outputs": []
    },
    {
      "cell_type": "code",
      "source": [
        "# Tiempos de espera simulados (en minutos)\n",
        "tiempos_espera = replicate(num_dias, rnorm(pacientes_por_dia, mean = 30, sd = 10))"
      ],
      "metadata": {
        "id": "Gd6WK1_anhAm"
      },
      "execution_count": 68,
      "outputs": []
    },
    {
      "cell_type": "code",
      "source": [
        "# Calculamos la media de tiempo de espera para cada día\n",
        "medias_diarias = apply(tiempos_espera, 2, mean)"
      ],
      "metadata": {
        "id": "5HmlXy5tnoiO"
      },
      "execution_count": 70,
      "outputs": []
    },
    {
      "cell_type": "code",
      "source": [
        "# Calculamos el error estándar de la media (SEM)\n",
        "sem = sd(medias_diarias)\n",
        "cat(\"El error estándar de la media (SEM) es:\", sem, \"minutos\\n\")"
      ],
      "metadata": {
        "colab": {
          "base_uri": "https://localhost:8080/"
        },
        "id": "8yzia6FglvHy",
        "outputId": "29b7f08e-9a89-4146-cb94-d82c7031e441"
      },
      "execution_count": 71,
      "outputs": [
        {
          "output_type": "stream",
          "name": "stdout",
          "text": [
            "El error estándar de la media (SEM) es: 0.9512958 minutos\n"
          ]
        }
      ]
    },
    {
      "cell_type": "markdown",
      "source": [
        "4. Un agricultor quiere estimar el rendimiento promedio de tomates por planta (en kg) en su campo. Como no puede medir todas las plantas, toma muestras de 50 plantas en diferentes sectores y repite este proceso 500 veces para calcular el error estandar muestral."
      ],
      "metadata": {
        "id": "cwkPBDCUlkYz"
      }
    },
    {
      "cell_type": "code",
      "source": [
        "set.seed(789)\n",
        "# Simulamos los datos\n",
        "num_muestras = 500\n",
        "plantas_por_muestra = 50"
      ],
      "metadata": {
        "id": "X4BjG_N5oCII"
      },
      "execution_count": 73,
      "outputs": []
    },
    {
      "cell_type": "code",
      "source": [
        "# Rendimiento simulado (en kg)\n",
        "rendimiento = replicate(num_muestras, rnorm(plantas_por_muestra, mean = 2, sd = 0.5))"
      ],
      "metadata": {
        "id": "LUbj_mHNoDUO"
      },
      "execution_count": 74,
      "outputs": []
    },
    {
      "cell_type": "code",
      "source": [
        "# Calculamos el rendimiento promedio para cada muestra\n",
        "rendimiento_promedio = apply(rendimiento, 2, mean)"
      ],
      "metadata": {
        "id": "Y2olFWl4oHwO"
      },
      "execution_count": 75,
      "outputs": []
    },
    {
      "cell_type": "code",
      "source": [
        "# Calculamos el error estándar de la media (SEM)\n",
        "sem_rendimiento = sd(rendimiento_promedio)\n",
        "cat(\"El error estándar de la media (SEM) del rendimiento es:\", sem_rendimiento, \"kg\\n\")"
      ],
      "metadata": {
        "colab": {
          "base_uri": "https://localhost:8080/"
        },
        "id": "gSznunNnlvlv",
        "outputId": "2de91e61-d3ff-4237-ec57-267de824ae0b"
      },
      "execution_count": 76,
      "outputs": [
        {
          "output_type": "stream",
          "name": "stdout",
          "text": [
            "El error estándar de la media (SEM) del rendimiento es: 0.07396965 kg\n"
          ]
        }
      ]
    },
    {
      "cell_type": "markdown",
      "source": [
        "5. Una compañía eléctrica analiza el consumo promedio mensual (en kWh) en 50 hogares. Repite el muestreo 300 veces para estimar el SEM y planificar la demanda energética."
      ],
      "metadata": {
        "id": "Ud3Q76KRln6E"
      }
    },
    {
      "cell_type": "code",
      "source": [
        "set.seed(159)\n",
        "# Simulamos los datos\n",
        "num_muestras = 300\n",
        "hogares_por_muestra = 50"
      ],
      "metadata": {
        "id": "oBdWUpfPqj7h"
      },
      "execution_count": 78,
      "outputs": []
    },
    {
      "cell_type": "code",
      "source": [
        "# Consumo simulado (en kWh)\n",
        "consumo = replicate(num_muestras, rnorm(hogares_por_muestra, mean = 500, sd = 100))"
      ],
      "metadata": {
        "id": "RXE3MUrcqk1u"
      },
      "execution_count": 79,
      "outputs": []
    },
    {
      "cell_type": "code",
      "source": [
        "# Calculamos el consumo promedio para cada muestra\n",
        "consumo_promedio = apply(consumo, 2, mean)"
      ],
      "metadata": {
        "id": "YVEdlLIYqqQ1"
      },
      "execution_count": 80,
      "outputs": []
    },
    {
      "cell_type": "code",
      "source": [
        "# Calculamos el error estándar de la media (SEM)\n",
        "sem_consumo = sd(consumo_promedio)\n",
        "cat(\"El error estándar de la media (SEM) del consumo es:\", sem_consumo, \"kWh\\n\")"
      ],
      "metadata": {
        "colab": {
          "base_uri": "https://localhost:8080/"
        },
        "id": "8BieKFCMlwEL",
        "outputId": "77691f94-7c96-42e4-e8de-ccd79ecab6a9"
      },
      "execution_count": 81,
      "outputs": [
        {
          "output_type": "stream",
          "name": "stdout",
          "text": [
            "El error estándar de la media (SEM) del consumo es: 14.74468 kWh\n"
          ]
        }
      ]
    },
    {
      "cell_type": "markdown",
      "source": [
        "6. Aproximar los coeficientes $\\beta_0$, y $\\beta_1$ en el modelo $Y=\\beta_0 + \\beta_1X+\\epsilon$. De ejemplos"
      ],
      "metadata": {
        "id": "z4NYAxEXlp3K"
      }
    },
    {
      "cell_type": "code",
      "source": [
        "# 1. Definir los coeficientes verdaderos y simular datos\n",
        "set.seed(123)\n",
        "beta0_real = 2\n",
        "beta1_real = 3\n",
        "n = 100\n",
        "X = runif(n, 0, 10)\n",
        "epsilon = rnorm(n, 0, 2) # Ruido\n",
        "Y = beta0_real + beta1_real * X + epsilon"
      ],
      "metadata": {
        "id": "KyiBIARcv30u"
      },
      "execution_count": 83,
      "outputs": []
    },
    {
      "cell_type": "code",
      "source": [
        "# 2. Estimar los coeficientes usando el modelo de regresión lineal\n",
        "modelo = lm(Y ~ X)\n",
        "beta0_estimado = coef(modelo)[1]\n",
        "beta1_estimado = coef(modelo)[2]"
      ],
      "metadata": {
        "id": "CWMiUe2dwUNT"
      },
      "execution_count": 84,
      "outputs": []
    },
    {
      "cell_type": "code",
      "source": [
        "# 3. Mostrar los resultados\n",
        "cat(\"Beta0 real:\", beta0_real, \"\\n\")\n",
        "cat(\"Beta0 estimado:\", beta0_estimado, \"\\n\")\n",
        "cat(\"Beta1 real:\", beta1_real, \"\\n\")\n",
        "cat(\"Beta1 estimado:\", beta1_estimado, \"\\n\")"
      ],
      "metadata": {
        "colab": {
          "base_uri": "https://localhost:8080/"
        },
        "id": "z4Zjt-97lweh",
        "outputId": "b4632343-763f-4669-8f44-a3f6474597bc"
      },
      "execution_count": 85,
      "outputs": [
        {
          "output_type": "stream",
          "name": "stdout",
          "text": [
            "Beta0 real: 2 \n",
            "Beta0 estimado: 1.98208 \n",
            "Beta1 real: 3 \n",
            "Beta1 estimado: 2.982034 \n"
          ]
        }
      ]
    },
    {
      "cell_type": "code",
      "source": [
        "# 4. Visualizar los datos y la línea de regresión\n",
        "plot(X, Y, main = \"Regresión Lineal Simple\", xlab = \"X\", ylab = \"Y\")\n",
        "abline(modelo, col = \"red\")"
      ],
      "metadata": {
        "id": "34vm5HwiwijK",
        "outputId": "9de6a41d-29bb-4e0e-b759-a88c80953e12",
        "colab": {
          "base_uri": "https://localhost:8080/",
          "height": 437
        }
      },
      "execution_count": 86,
      "outputs": [
        {
          "output_type": "display_data",
          "data": {
            "text/plain": [
              "Plot with title “Regresión Lineal Simple”"
            ],
            "image/png": "[encoded data removed]"
          },
          "metadata": {
            "image/png": {
              "width": 420,
              "height": 420
            }
          }
        }
      ]
    }
  ]
}